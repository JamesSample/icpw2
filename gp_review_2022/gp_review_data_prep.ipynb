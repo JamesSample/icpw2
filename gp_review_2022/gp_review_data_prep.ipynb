{
 "cells": [
  {
   "cell_type": "code",
   "execution_count": 1,
   "id": "9664472b-66f7-451c-bc6d-8beaab050ab9",
   "metadata": {},
   "outputs": [],
   "source": [
    "import glob\n",
    "import os\n",
    "\n",
    "import geopandas as gpd\n",
    "import matplotlib.pyplot as plt\n",
    "import nivapy3 as nivapy\n",
    "import numpy as np\n",
    "import pandas as pd\n",
    "import seaborn as sn\n",
    "import xarray as xr\n",
    "\n",
    "plt.style.use(\"ggplot\")"
   ]
  },
  {
   "cell_type": "markdown",
   "id": "f3c82e4c-3a53-4872-87e1-c02189ad1da1",
   "metadata": {},
   "source": [
    "# ICP Waters GP review 2022\n",
    "\n",
    "The notebook compiles data for the 2022 GP Review for the WGE. I don't actually know what these acronyms mean (!), but the data required are described by Øyvind G in e-mails received 24.03.2022 at 11.18 and 18.17."
   ]
  },
  {
   "cell_type": "markdown",
   "id": "697b5c8c-221c-4618-a180-3e9a4e7ad58e",
   "metadata": {},
   "source": [
    "## 1. Get data from RESA2\n",
    "\n",
    "**Note:** Code in this section requires a direct connection to Nivabasen."
   ]
  },
  {
   "cell_type": "code",
   "execution_count": 2,
   "id": "3931f65f-8beb-4626-b794-33eb31244ab8",
   "metadata": {},
   "outputs": [
    {
     "name": "stdin",
     "output_type": "stream",
     "text": [
      "Username:  ···\n",
      "Password:  ···············\n"
     ]
    },
    {
     "name": "stdout",
     "output_type": "stream",
     "text": [
      "Connection successful.\n"
     ]
    }
   ],
   "source": [
    "eng = nivapy.da.connect()"
   ]
  },
  {
   "cell_type": "code",
   "execution_count": 3,
   "id": "d75d0ebe-cc77-4fe5-af08-632b76500767",
   "metadata": {},
   "outputs": [],
   "source": [
    "st_dt = \"2000-01-01\"\n",
    "end_dt = \"2019-12-31\"\n",
    "par_list = [\"Ca\", \"Mg\", \"Na\", \"K\", \"SO4\", \"NO3-N\", \"Cl\"]"
   ]
  },
  {
   "cell_type": "markdown",
   "id": "30b58b6b-2b51-499e-a65b-010a939b3812",
   "metadata": {},
   "source": [
    "### 1.1. Get stations\n",
    "\n",
    "The previous analysis in 2015 considered 61 stations. Some of these have been replaced in ICPW and others removed from the dataset completely (see e-mail sent to Heleen and Øyvind on 09.05.2022 at 15:41 for details). For the current review, we will use 59 sites (see reply from Heleen received 09.05.2022 at 16.09)."
   ]
  },
  {
   "cell_type": "code",
   "execution_count": 4,
   "id": "ff9d24ca-ce31-4e10-b6a3-44c0f78920b7",
   "metadata": {},
   "outputs": [
    {
     "name": "stdout",
     "output_type": "stream",
     "text": [
      "19726 stations in the RESA database.\n"
     ]
    },
    {
     "data": {
      "text/html": [
       "<div>\n",
       "<style scoped>\n",
       "    .dataframe tbody tr th:only-of-type {\n",
       "        vertical-align: middle;\n",
       "    }\n",
       "\n",
       "    .dataframe tbody tr th {\n",
       "        vertical-align: top;\n",
       "    }\n",
       "\n",
       "    .dataframe thead th {\n",
       "        text-align: right;\n",
       "    }\n",
       "</style>\n",
       "<table border=\"1\" class=\"dataframe\">\n",
       "  <thead>\n",
       "    <tr style=\"text-align: right;\">\n",
       "      <th></th>\n",
       "      <th>station_id</th>\n",
       "      <th>station_code</th>\n",
       "      <th>station_name</th>\n",
       "      <th>latitude</th>\n",
       "      <th>longitude</th>\n",
       "      <th>altitude</th>\n",
       "    </tr>\n",
       "  </thead>\n",
       "  <tbody>\n",
       "    <tr>\n",
       "      <th>13541</th>\n",
       "      <td>23505</td>\n",
       "      <td>DE01</td>\n",
       "      <td>Schwarzwald, Dürreychbach</td>\n",
       "      <td>48.750167</td>\n",
       "      <td>8.450300</td>\n",
       "      <td>730.0</td>\n",
       "    </tr>\n",
       "    <tr>\n",
       "      <th>13542</th>\n",
       "      <td>23506</td>\n",
       "      <td>DE02</td>\n",
       "      <td>Fichtelgebirge, Eger</td>\n",
       "      <td>50.085000</td>\n",
       "      <td>11.824500</td>\n",
       "      <td>664.0</td>\n",
       "    </tr>\n",
       "    <tr>\n",
       "      <th>13543</th>\n",
       "      <td>23507</td>\n",
       "      <td>DE03</td>\n",
       "      <td>Rothaargebirge, Elberndorfer Bach</td>\n",
       "      <td>50.987833</td>\n",
       "      <td>8.201333</td>\n",
       "      <td>540.0</td>\n",
       "    </tr>\n",
       "    <tr>\n",
       "      <th>13545</th>\n",
       "      <td>23509</td>\n",
       "      <td>DE05</td>\n",
       "      <td>Schwarzwald, Goldersbach</td>\n",
       "      <td>47.878500</td>\n",
       "      <td>8.057000</td>\n",
       "      <td>1100.0</td>\n",
       "    </tr>\n",
       "    <tr>\n",
       "      <th>13546</th>\n",
       "      <td>23510</td>\n",
       "      <td>DE06</td>\n",
       "      <td>Hunsrück, Gräfenbach</td>\n",
       "      <td>49.924000</td>\n",
       "      <td>7.619167</td>\n",
       "      <td>515.0</td>\n",
       "    </tr>\n",
       "  </tbody>\n",
       "</table>\n",
       "</div>"
      ],
      "text/plain": [
       "       station_id station_code                       station_name   latitude  \\\n",
       "13541       23505         DE01          Schwarzwald, Dürreychbach  48.750167   \n",
       "13542       23506         DE02               Fichtelgebirge, Eger  50.085000   \n",
       "13543       23507         DE03  Rothaargebirge, Elberndorfer Bach  50.987833   \n",
       "13545       23509         DE05           Schwarzwald, Goldersbach  47.878500   \n",
       "13546       23510         DE06               Hunsrück, Gräfenbach  49.924000   \n",
       "\n",
       "       longitude  altitude  \n",
       "13541   8.450300     730.0  \n",
       "13542  11.824500     664.0  \n",
       "13543   8.201333     540.0  \n",
       "13545   8.057000    1100.0  \n",
       "13546   7.619167     515.0  "
      ]
     },
     "execution_count": 4,
     "metadata": {},
     "output_type": "execute_result"
    }
   ],
   "source": [
    "oga_df = pd.read_excel(\"stations_used_2015.xlsx\")\n",
    "oga_df.dropna(subset=\"Tr18_Code\", inplace=True)\n",
    "stn_cds = list(oga_df[\"Tr18_Code\"].unique())\n",
    "\n",
    "stn_df = nivapy.da.select_resa_stations(eng)\n",
    "stn_df = stn_df.query(\"station_code in @stn_cds\")\n",
    "\n",
    "assert len(oga_df) == len(stn_df), \"Not all stations identified in RESA.\"\n",
    "stn_df.to_csv(\"stations_used_2022.csv\", index=False)\n",
    "stn_df.head()"
   ]
  },
  {
   "cell_type": "code",
   "execution_count": 5,
   "id": "e7b5d9d3-b577-4a85-95f2-a24c7a17648a",
   "metadata": {},
   "outputs": [
    {
     "data": {
      "text/html": [
       "<div style=\"width:100%;\"><div style=\"position:relative;width:100%;height:0;padding-bottom:60%;\"><span style=\"color:#565656\">Make this Notebook Trusted to load map: File -> Trust Notebook</span><iframe src=\"about:blank\" style=\"position:absolute;width:100%;height:100%;left:0;top:0;border:none !important;\" data-html=%3C%21DOCTYPE%20html%3E%0A%3Chead%3E%20%20%20%20%0A%20%20%20%20%3Cmeta%20http-equiv%3D%22content-type%22%20content%3D%22text/html%3B%20charset%3DUTF-8%22%20/%3E%0A%20%20%20%20%0A%20%20%20%20%20%20%20%20%3Cscript%3E%0A%20%20%20%20%20%20%20%20%20%20%20%20L_NO_TOUCH%20%3D%20false%3B%0A%20%20%20%20%20%20%20%20%20%20%20%20L_DISABLE_3D%20%3D%20false%3B%0A%20%20%20%20%20%20%20%20%3C/script%3E%0A%20%20%20%20%0A%20%20%20%20%3Cstyle%3Ehtml%2C%20body%20%7Bwidth%3A%20100%25%3Bheight%3A%20100%25%3Bmargin%3A%200%3Bpadding%3A%200%3B%7D%3C/style%3E%0A%20%20%20%20%3Cstyle%3E%23map%20%7Bposition%3Aabsolute%3Btop%3A0%3Bbottom%3A0%3Bright%3A0%3Bleft%3A0%3B%7D%3C/style%3E%0A%20%20%20%20%3Cscript%20src%3D%22https%3A//cdn.jsdelivr.net/npm/leaflet%401.6.0/dist/leaflet.js%22%3E%3C/script%3E%0A%20%20%20%20%3Cscript%20src%3D%22https%3A//code.jquery.com/jquery-1.12.4.min.js%22%3E%3C/script%3E%0A%20%20%20%20%3Cscript%20src%3D%22https%3A//maxcdn.bootstrapcdn.com/bootstrap/3.2.0/js/bootstrap.min.js%22%3E%3C/script%3E%0A%20%20%20%20%3Cscript%20src%3D%22https%3A//cdnjs.cloudflare.com/ajax/libs/Leaflet.awesome-markers/2.0.2/leaflet.awesome-markers.js%22%3E%3C/script%3E%0A%20%20%20%20%3Clink%20rel%3D%22stylesheet%22%20href%3D%22https%3A//cdn.jsdelivr.net/npm/leaflet%401.6.0/dist/leaflet.css%22/%3E%0A%20%20%20%20%3Clink%20rel%3D%22stylesheet%22%20href%3D%22https%3A//maxcdn.bootstrapcdn.com/bootstrap/3.2.0/css/bootstrap.min.css%22/%3E%0A%20%20%20%20%3Clink%20rel%3D%22stylesheet%22%20href%3D%22https%3A//maxcdn.bootstrapcdn.com/bootstrap/3.2.0/css/bootstrap-theme.min.css%22/%3E%0A%20%20%20%20%3Clink%20rel%3D%22stylesheet%22%20href%3D%22https%3A//maxcdn.bootstrapcdn.com/font-awesome/4.6.3/css/font-awesome.min.css%22/%3E%0A%20%20%20%20%3Clink%20rel%3D%22stylesheet%22%20href%3D%22https%3A//cdnjs.cloudflare.com/ajax/libs/Leaflet.awesome-markers/2.0.2/leaflet.awesome-markers.css%22/%3E%0A%20%20%20%20%3Clink%20rel%3D%22stylesheet%22%20href%3D%22https%3A//cdn.jsdelivr.net/gh/python-visualization/folium/folium/templates/leaflet.awesome.rotate.min.css%22/%3E%0A%20%20%20%20%0A%20%20%20%20%20%20%20%20%20%20%20%20%3Cmeta%20name%3D%22viewport%22%20content%3D%22width%3Ddevice-width%2C%0A%20%20%20%20%20%20%20%20%20%20%20%20%20%20%20%20initial-scale%3D1.0%2C%20maximum-scale%3D1.0%2C%20user-scalable%3Dno%22%20/%3E%0A%20%20%20%20%20%20%20%20%20%20%20%20%3Cstyle%3E%0A%20%20%20%20%20%20%20%20%20%20%20%20%20%20%20%20%23map_59b9acc409a24ea08402159561c30e5c%20%7B%0A%20%20%20%20%20%20%20%20%20%20%20%20%20%20%20%20%20%20%20%20position%3A%20relative%3B%0A%20%20%20%20%20%20%20%20%20%20%20%20%20%20%20%20%20%20%20%20width%3A%20100.0%25%3B%0A%20%20%20%20%20%20%20%20%20%20%20%20%20%20%20%20%20%20%20%20height%3A%20100.0%25%3B%0A%20%20%20%20%20%20%20%20%20%20%20%20%20%20%20%20%20%20%20%20left%3A%200.0%25%3B%0A%20%20%20%20%20%20%20%20%20%20%20%20%20%20%20%20%20%20%20%20top%3A%200.0%25%3B%0A%20%20%20%20%20%20%20%20%20%20%20%20%20%20%20%20%7D%0A%20%20%20%20%20%20%20%20%20%20%20%20%3C/style%3E%0A%20%20%20%20%20%20%20%20%0A%20%20%20%20%3Cscript%20src%3D%22https%3A//cdnjs.cloudflare.com/ajax/libs/leaflet.markercluster/1.1.0/leaflet.markercluster.js%22%3E%3C/script%3E%0A%20%20%20%20%3Clink%20rel%3D%22stylesheet%22%20href%3D%22https%3A//cdnjs.cloudflare.com/ajax/libs/leaflet.markercluster/1.1.0/MarkerCluster.css%22/%3E%0A%20%20%20%20%3Clink%20rel%3D%22stylesheet%22%20href%3D%22https%3A//cdnjs.cloudflare.com/ajax/libs/leaflet.markercluster/1.1.0/MarkerCluster.Default.css%22/%3E%0A%3C/head%3E%0A%3Cbody%3E%20%20%20%20%0A%20%20%20%20%0A%20%20%20%20%20%20%20%20%20%20%20%20%3Cdiv%20class%3D%22folium-map%22%20id%3D%22map_59b9acc409a24ea08402159561c30e5c%22%20%3E%3C/div%3E%0A%20%20%20%20%20%20%20%20%0A%3C/body%3E%0A%3Cscript%3E%20%20%20%20%0A%20%20%20%20%0A%20%20%20%20%20%20%20%20%20%20%20%20var%20map_59b9acc409a24ea08402159561c30e5c%20%3D%20L.map%28%0A%20%20%20%20%20%20%20%20%20%20%20%20%20%20%20%20%22map_59b9acc409a24ea08402159561c30e5c%22%2C%0A%20%20%20%20%20%20%20%20%20%20%20%20%20%20%20%20%7B%0A%20%20%20%20%20%20%20%20%20%20%20%20%20%20%20%20%20%20%20%20center%3A%20%5B53.55957791525423%2C%2012.057440474576273%5D%2C%0A%20%20%20%20%20%20%20%20%20%20%20%20%20%20%20%20%20%20%20%20crs%3A%20L.CRS.EPSG3857%2C%0A%20%20%20%20%20%20%20%20%20%20%20%20%20%20%20%20%20%20%20%20zoom%3A%204%2C%0A%20%20%20%20%20%20%20%20%20%20%20%20%20%20%20%20%20%20%20%20zoomControl%3A%20true%2C%0A%20%20%20%20%20%20%20%20%20%20%20%20%20%20%20%20%20%20%20%20preferCanvas%3A%20false%2C%0A%20%20%20%20%20%20%20%20%20%20%20%20%20%20%20%20%7D%0A%20%20%20%20%20%20%20%20%20%20%20%20%29%3B%0A%0A%20%20%20%20%20%20%20%20%20%20%20%20%0A%0A%20%20%20%20%20%20%20%20%0A%20%20%20%20%0A%20%20%20%20%20%20%20%20%20%20%20%20var%20tile_layer_631f118f9fe449f29c973d4f64e8e45c%20%3D%20L.tileLayer%28%0A%20%20%20%20%20%20%20%20%20%20%20%20%20%20%20%20%22https%3A//stamen-tiles-%7Bs%7D.a.ssl.fastly.net/terrain/%7Bz%7D/%7Bx%7D/%7By%7D.jpg%22%2C%0A%20%20%20%20%20%20%20%20%20%20%20%20%20%20%20%20%7B%22attribution%22%3A%20%22Map%20tiles%20by%20%5Cu003ca%20href%3D%5C%22http%3A//stamen.com%5C%22%5Cu003eStamen%20Design%5Cu003c/a%5Cu003e%2C%20under%20%5Cu003ca%20href%3D%5C%22http%3A//creativecommons.org/licenses/by/3.0%5C%22%5Cu003eCC%20BY%203.0%5Cu003c/a%5Cu003e.%20Data%20by%20%5Cu0026copy%3B%20%5Cu003ca%20href%3D%5C%22http%3A//openstreetmap.org%5C%22%5Cu003eOpenStreetMap%5Cu003c/a%5Cu003e%2C%20under%20%5Cu003ca%20href%3D%5C%22http%3A//creativecommons.org/licenses/by-sa/3.0%5C%22%5Cu003eCC%20BY%20SA%5Cu003c/a%5Cu003e.%22%2C%20%22detectRetina%22%3A%20false%2C%20%22maxNativeZoom%22%3A%2018%2C%20%22maxZoom%22%3A%2018%2C%20%22minZoom%22%3A%200%2C%20%22noWrap%22%3A%20false%2C%20%22opacity%22%3A%201%2C%20%22subdomains%22%3A%20%22abc%22%2C%20%22tms%22%3A%20false%7D%0A%20%20%20%20%20%20%20%20%20%20%20%20%29.addTo%28map_59b9acc409a24ea08402159561c30e5c%29%3B%0A%20%20%20%20%20%20%20%20%0A%20%20%20%20%0A%20%20%20%20%20%20%20%20%20%20%20%20var%20tile_layer_6ad21475658d4fa489d851c597d5b032%20%3D%20L.tileLayer%28%0A%20%20%20%20%20%20%20%20%20%20%20%20%20%20%20%20%22https%3A//opencache.statkart.no/gatekeeper/gk/gk.open_gmaps%3Flayers%3Dtopo4%5Cu0026zoom%3D%7Bz%7D%5Cu0026x%3D%7Bx%7D%5Cu0026y%3D%7By%7D%22%2C%0A%20%20%20%20%20%20%20%20%20%20%20%20%20%20%20%20%7B%22attribution%22%3A%20%22karkverket%22%2C%20%22detectRetina%22%3A%20false%2C%20%22maxNativeZoom%22%3A%2018%2C%20%22maxZoom%22%3A%2018%2C%20%22minZoom%22%3A%200%2C%20%22noWrap%22%3A%20false%2C%20%22opacity%22%3A%201%2C%20%22subdomains%22%3A%20%22abc%22%2C%20%22tms%22%3A%20false%7D%0A%20%20%20%20%20%20%20%20%20%20%20%20%29.addTo%28map_59b9acc409a24ea08402159561c30e5c%29%3B%0A%20%20%20%20%20%20%20%20%0A%20%20%20%20%0A%20%20%20%20%20%20%20%20%20%20%20%20var%20feature_group_f6a069bed123485c98f48131fc57cce8%20%3D%20L.featureGroup%28%0A%20%20%20%20%20%20%20%20%20%20%20%20%20%20%20%20%7B%7D%0A%20%20%20%20%20%20%20%20%20%20%20%20%29.addTo%28map_59b9acc409a24ea08402159561c30e5c%29%3B%0A%20%20%20%20%20%20%20%20%0A%20%20%20%20%0A%20%20%20%20%20%20%20%20%20%20%20%20var%20marker_cluster_792eec222c2641cb904a0a361620787a%20%3D%20L.markerClusterGroup%28%0A%20%20%20%20%20%20%20%20%20%20%20%20%20%20%20%20%7B%7D%0A%20%20%20%20%20%20%20%20%20%20%20%20%29%3B%0A%20%20%20%20%20%20%20%20%20%20%20%20feature_group_f6a069bed123485c98f48131fc57cce8.addLayer%28marker_cluster_792eec222c2641cb904a0a361620787a%29%3B%0A%20%20%20%20%20%20%20%20%0A%20%20%20%20%0A%20%20%20%20%20%20%20%20%20%20%20%20var%20marker_e90c241d9c8c4084bfcf6246c556e867%20%3D%20L.marker%28%0A%20%20%20%20%20%20%20%20%20%20%20%20%20%20%20%20%5B48.750167%2C%208.4503%5D%2C%0A%20%20%20%20%20%20%20%20%20%20%20%20%20%20%20%20%7B%7D%0A%20%20%20%20%20%20%20%20%20%20%20%20%29.addTo%28marker_cluster_792eec222c2641cb904a0a361620787a%29%3B%0A%20%20%20%20%20%20%20%20%0A%20%20%20%20%0A%20%20%20%20%20%20%20%20var%20popup_938385cdf63d475fa09635793dd5ee8c%20%3D%20L.popup%28%7B%22maxWidth%22%3A%20%22100%25%22%7D%29%3B%0A%0A%20%20%20%20%20%20%20%20%0A%20%20%20%20%20%20%20%20%20%20%20%20var%20html_b9f3879ba63f4b2587a3f9a89aba8133%20%3D%20%24%28%60%3Cdiv%20id%3D%22html_b9f3879ba63f4b2587a3f9a89aba8133%22%20style%3D%22width%3A%20100.0%25%3B%20height%3A%20100.0%25%3B%22%3ESchwarzwald%2C%20D%C3%BCrreychbach%3C/div%3E%60%29%5B0%5D%3B%0A%20%20%20%20%20%20%20%20%20%20%20%20popup_938385cdf63d475fa09635793dd5ee8c.setContent%28html_b9f3879ba63f4b2587a3f9a89aba8133%29%3B%0A%20%20%20%20%20%20%20%20%0A%0A%20%20%20%20%20%20%20%20marker_e90c241d9c8c4084bfcf6246c556e867.bindPopup%28popup_938385cdf63d475fa09635793dd5ee8c%29%0A%20%20%20%20%20%20%20%20%3B%0A%0A%20%20%20%20%20%20%20%20%0A%20%20%20%20%0A%20%20%20%20%0A%20%20%20%20%20%20%20%20%20%20%20%20var%20marker_173335546ebb40c5a73facf8c66e6e69%20%3D%20L.marker%28%0A%20%20%20%20%20%20%20%20%20%20%20%20%20%20%20%20%5B50.085%2C%2011.8245%5D%2C%0A%20%20%20%20%20%20%20%20%20%20%20%20%20%20%20%20%7B%7D%0A%20%20%20%20%20%20%20%20%20%20%20%20%29.addTo%28marker_cluster_792eec222c2641cb904a0a361620787a%29%3B%0A%20%20%20%20%20%20%20%20%0A%20%20%20%20%0A%20%20%20%20%20%20%20%20var%20popup_0edd6d4db9964c4792c5ffe1d5c07afd%20%3D%20L.popup%28%7B%22maxWidth%22%3A%20%22100%25%22%7D%29%3B%0A%0A%20%20%20%20%20%20%20%20%0A%20%20%20%20%20%20%20%20%20%20%20%20var%20html_818fa302fea8433194ac26f1e6700338%20%3D%20%24%28%60%3Cdiv%20id%3D%22html_818fa302fea8433194ac26f1e6700338%22%20style%3D%22width%3A%20100.0%25%3B%20height%3A%20100.0%25%3B%22%3EFichtelgebirge%2C%20Eger%3C/div%3E%60%29%5B0%5D%3B%0A%20%20%20%20%20%20%20%20%20%20%20%20popup_0edd6d4db9964c4792c5ffe1d5c07afd.setContent%28html_818fa302fea8433194ac26f1e6700338%29%3B%0A%20%20%20%20%20%20%20%20%0A%0A%20%20%20%20%20%20%20%20marker_173335546ebb40c5a73facf8c66e6e69.bindPopup%28popup_0edd6d4db9964c4792c5ffe1d5c07afd%29%0A%20%20%20%20%20%20%20%20%3B%0A%0A%20%20%20%20%20%20%20%20%0A%20%20%20%20%0A%20%20%20%20%0A%20%20%20%20%20%20%20%20%20%20%20%20var%20marker_d56e0db0c02b440695ae20d233b7627f%20%3D%20L.marker%28%0A%20%20%20%20%20%20%20%20%20%20%20%20%20%20%20%20%5B50.987833%2C%208.201333%5D%2C%0A%20%20%20%20%20%20%20%20%20%20%20%20%20%20%20%20%7B%7D%0A%20%20%20%20%20%20%20%20%20%20%20%20%29.addTo%28marker_cluster_792eec222c2641cb904a0a361620787a%29%3B%0A%20%20%20%20%20%20%20%20%0A%20%20%20%20%0A%20%20%20%20%20%20%20%20var%20popup_0134764739f6430e9c8e96951d7c64f3%20%3D%20L.popup%28%7B%22maxWidth%22%3A%20%22100%25%22%7D%29%3B%0A%0A%20%20%20%20%20%20%20%20%0A%20%20%20%20%20%20%20%20%20%20%20%20var%20html_c515a4fb46864911b0b685434d964c6e%20%3D%20%24%28%60%3Cdiv%20id%3D%22html_c515a4fb46864911b0b685434d964c6e%22%20style%3D%22width%3A%20100.0%25%3B%20height%3A%20100.0%25%3B%22%3ERothaargebirge%2C%20Elberndorfer%20Bach%3C/div%3E%60%29%5B0%5D%3B%0A%20%20%20%20%20%20%20%20%20%20%20%20popup_0134764739f6430e9c8e96951d7c64f3.setContent%28html_c515a4fb46864911b0b685434d964c6e%29%3B%0A%20%20%20%20%20%20%20%20%0A%0A%20%20%20%20%20%20%20%20marker_d56e0db0c02b440695ae20d233b7627f.bindPopup%28popup_0134764739f6430e9c8e96951d7c64f3%29%0A%20%20%20%20%20%20%20%20%3B%0A%0A%20%20%20%20%20%20%20%20%0A%20%20%20%20%0A%20%20%20%20%0A%20%20%20%20%20%20%20%20%20%20%20%20var%20marker_0c2a9f5fe7bd46afb46db0240cab914b%20%3D%20L.marker%28%0A%20%20%20%20%20%20%20%20%20%20%20%20%20%20%20%20%5B47.8785%2C%208.057%5D%2C%0A%20%20%20%20%20%20%20%20%20%20%20%20%20%20%20%20%7B%7D%0A%20%20%20%20%20%20%20%20%20%20%20%20%29.addTo%28marker_cluster_792eec222c2641cb904a0a361620787a%29%3B%0A%20%20%20%20%20%20%20%20%0A%20%20%20%20%0A%20%20%20%20%20%20%20%20var%20popup_2faead18302c4c1c938fbdab33ec9a12%20%3D%20L.popup%28%7B%22maxWidth%22%3A%20%22100%25%22%7D%29%3B%0A%0A%20%20%20%20%20%20%20%20%0A%20%20%20%20%20%20%20%20%20%20%20%20var%20html_0597d278d4084b73882204f6bb9e4f93%20%3D%20%24%28%60%3Cdiv%20id%3D%22html_0597d278d4084b73882204f6bb9e4f93%22%20style%3D%22width%3A%20100.0%25%3B%20height%3A%20100.0%25%3B%22%3ESchwarzwald%2C%20Goldersbach%3C/div%3E%60%29%5B0%5D%3B%0A%20%20%20%20%20%20%20%20%20%20%20%20popup_2faead18302c4c1c938fbdab33ec9a12.setContent%28html_0597d278d4084b73882204f6bb9e4f93%29%3B%0A%20%20%20%20%20%20%20%20%0A%0A%20%20%20%20%20%20%20%20marker_0c2a9f5fe7bd46afb46db0240cab914b.bindPopup%28popup_2faead18302c4c1c938fbdab33ec9a12%29%0A%20%20%20%20%20%20%20%20%3B%0A%0A%20%20%20%20%20%20%20%20%0A%20%20%20%20%0A%20%20%20%20%0A%20%20%20%20%20%20%20%20%20%20%20%20var%20marker_2f78fe6b307c4d15804629859cc97a2e%20%3D%20L.marker%28%0A%20%20%20%20%20%20%20%20%20%20%20%20%20%20%20%20%5B49.924%2C%207.619167%5D%2C%0A%20%20%20%20%20%20%20%20%20%20%20%20%20%20%20%20%7B%7D%0A%20%20%20%20%20%20%20%20%20%20%20%20%29.addTo%28marker_cluster_792eec222c2641cb904a0a361620787a%29%3B%0A%20%20%20%20%20%20%20%20%0A%20%20%20%20%0A%20%20%20%20%20%20%20%20var%20popup_c9cef066be3b48a0b6598a7666b2bd42%20%3D%20L.popup%28%7B%22maxWidth%22%3A%20%22100%25%22%7D%29%3B%0A%0A%20%20%20%20%20%20%20%20%0A%20%20%20%20%20%20%20%20%20%20%20%20var%20html_20a340259c634477b55a815f0f2c95b5%20%3D%20%24%28%60%3Cdiv%20id%3D%22html_20a340259c634477b55a815f0f2c95b5%22%20style%3D%22width%3A%20100.0%25%3B%20height%3A%20100.0%25%3B%22%3EHunsr%C3%BCck%2C%20Gr%C3%A4fenbach%3C/div%3E%60%29%5B0%5D%3B%0A%20%20%20%20%20%20%20%20%20%20%20%20popup_c9cef066be3b48a0b6598a7666b2bd42.setContent%28html_20a340259c634477b55a815f0f2c95b5%29%3B%0A%20%20%20%20%20%20%20%20%0A%0A%20%20%20%20%20%20%20%20marker_2f78fe6b307c4d15804629859cc97a2e.bindPopup%28popup_c9cef066be3b48a0b6598a7666b2bd42%29%0A%20%20%20%20%20%20%20%20%3B%0A%0A%20%20%20%20%20%20%20%20%0A%20%20%20%20%0A%20%20%20%20%0A%20%20%20%20%20%20%20%20%20%20%20%20var%20marker_71f605278a9b458296dd67fb62512c1c%20%3D%20L.marker%28%0A%20%20%20%20%20%20%20%20%20%20%20%20%20%20%20%20%5B50.409667%2C%2012.5335%5D%2C%0A%20%20%20%20%20%20%20%20%20%20%20%20%20%20%20%20%7B%7D%0A%20%20%20%20%20%20%20%20%20%20%20%20%29.addTo%28marker_cluster_792eec222c2641cb904a0a361620787a%29%3B%0A%20%20%20%20%20%20%20%20%0A%20%20%20%20%0A%20%20%20%20%20%20%20%20var%20popup_9932d09c268642b290d79ebcb154b752%20%3D%20L.popup%28%7B%22maxWidth%22%3A%20%22100%25%22%7D%29%3B%0A%0A%20%20%20%20%20%20%20%20%0A%20%20%20%20%20%20%20%20%20%20%20%20var%20html_fe2aa44020604340b82edccb650dde0c%20%3D%20%24%28%60%3Cdiv%20id%3D%22html_fe2aa44020604340b82edccb650dde0c%22%20style%3D%22width%3A%20100.0%25%3B%20height%3A%20100.0%25%3B%22%3EErzgebirge%2C%20Grosse%20Pyra%3C/div%3E%60%29%5B0%5D%3B%0A%20%20%20%20%20%20%20%20%20%20%20%20popup_9932d09c268642b290d79ebcb154b752.setContent%28html_fe2aa44020604340b82edccb650dde0c%29%3B%0A%20%20%20%20%20%20%20%20%0A%0A%20%20%20%20%20%20%20%20marker_71f605278a9b458296dd67fb62512c1c.bindPopup%28popup_9932d09c268642b290d79ebcb154b752%29%0A%20%20%20%20%20%20%20%20%3B%0A%0A%20%20%20%20%20%20%20%20%0A%20%20%20%20%0A%20%20%20%20%0A%20%20%20%20%20%20%20%20%20%20%20%20var%20marker_fb751ff18e794b60a64114d3f30c67c0%20%3D%20L.marker%28%0A%20%20%20%20%20%20%20%20%20%20%20%20%20%20%20%20%5B48.934667%2C%2013.4085%5D%2C%0A%20%20%20%20%20%20%20%20%20%20%20%20%20%20%20%20%7B%7D%0A%20%20%20%20%20%20%20%20%20%20%20%20%29.addTo%28marker_cluster_792eec222c2641cb904a0a361620787a%29%3B%0A%20%20%20%20%20%20%20%20%0A%20%20%20%20%0A%20%20%20%20%20%20%20%20var%20popup_1a0270888aae4c97966d34045a63af0d%20%3D%20L.popup%28%7B%22maxWidth%22%3A%20%22100%25%22%7D%29%3B%0A%0A%20%20%20%20%20%20%20%20%0A%20%20%20%20%20%20%20%20%20%20%20%20var%20html_5e0d7e44b2e74e9bb372808561f9e4a1%20%3D%20%24%28%60%3Cdiv%20id%3D%22html_5e0d7e44b2e74e9bb372808561f9e4a1%22%20style%3D%22width%3A%20100.0%25%3B%20height%3A%20100.0%25%3B%22%3EBayerischer%20Wald%2C%20Grosse%20Ohe%3C/div%3E%60%29%5B0%5D%3B%0A%20%20%20%20%20%20%20%20%20%20%20%20popup_1a0270888aae4c97966d34045a63af0d.setContent%28html_5e0d7e44b2e74e9bb372808561f9e4a1%29%3B%0A%20%20%20%20%20%20%20%20%0A%0A%20%20%20%20%20%20%20%20marker_fb751ff18e794b60a64114d3f30c67c0.bindPopup%28popup_1a0270888aae4c97966d34045a63af0d%29%0A%20%20%20%20%20%20%20%20%3B%0A%0A%20%20%20%20%20%20%20%20%0A%20%20%20%20%0A%20%20%20%20%0A%20%20%20%20%20%20%20%20%20%20%20%20var%20marker_e420c50f4b52486e9275d334b53eab0b%20%3D%20L.marker%28%0A%20%20%20%20%20%20%20%20%20%20%20%20%20%20%20%20%5B48.9385%2C%2013.4085%5D%2C%0A%20%20%20%20%20%20%20%20%20%20%20%20%20%20%20%20%7B%7D%0A%20%20%20%20%20%20%20%20%20%20%20%20%29.addTo%28marker_cluster_792eec222c2641cb904a0a361620787a%29%3B%0A%20%20%20%20%20%20%20%20%0A%20%20%20%20%0A%20%20%20%20%20%20%20%20var%20popup_676320d1efe34c6a8a19f9e59b291453%20%3D%20L.popup%28%7B%22maxWidth%22%3A%20%22100%25%22%7D%29%3B%0A%0A%20%20%20%20%20%20%20%20%0A%20%20%20%20%20%20%20%20%20%20%20%20var%20html_57238b7b6de14625a3413f29f5322e53%20%3D%20%24%28%60%3Cdiv%20id%3D%22html_57238b7b6de14625a3413f29f5322e53%22%20style%3D%22width%3A%20100.0%25%3B%20height%3A%20100.0%25%3B%22%3EBayerischer%20Wald%2C%20Hinterer%20Schachtenbach%3C/div%3E%60%29%5B0%5D%3B%0A%20%20%20%20%20%20%20%20%20%20%20%20popup_676320d1efe34c6a8a19f9e59b291453.setContent%28html_57238b7b6de14625a3413f29f5322e53%29%3B%0A%20%20%20%20%20%20%20%20%0A%0A%20%20%20%20%20%20%20%20marker_e420c50f4b52486e9275d334b53eab0b.bindPopup%28popup_676320d1efe34c6a8a19f9e59b291453%29%0A%20%20%20%20%20%20%20%20%3B%0A%0A%20%20%20%20%20%20%20%20%0A%20%20%20%20%0A%20%20%20%20%0A%20%20%20%20%20%20%20%20%20%20%20%20var%20marker_2d44e0ceb5d543f58c12dd6f42d17891%20%3D%20L.marker%28%0A%20%20%20%20%20%20%20%20%20%20%20%20%20%20%20%20%5B50.041167%2C%2011.900833%5D%2C%0A%20%20%20%20%20%20%20%20%20%20%20%20%20%20%20%20%7B%7D%0A%20%20%20%20%20%20%20%20%20%20%20%20%29.addTo%28marker_cluster_792eec222c2641cb904a0a361620787a%29%3B%0A%20%20%20%20%20%20%20%20%0A%20%20%20%20%0A%20%20%20%20%20%20%20%20var%20popup_fe5f7dc5a95f4071b8d9411e0ce22462%20%3D%20L.popup%28%7B%22maxWidth%22%3A%20%22100%25%22%7D%29%3B%0A%0A%20%20%20%20%20%20%20%20%0A%20%20%20%20%20%20%20%20%20%20%20%20var%20html_b5e12d54fb1f48d281077af657dc0b7e%20%3D%20%24%28%60%3Cdiv%20id%3D%22html_b5e12d54fb1f48d281077af657dc0b7e%22%20style%3D%22width%3A%20100.0%25%3B%20height%3A%20100.0%25%3B%22%3EFichtelgebirge%2C%20R%C3%B6slau%3C/div%3E%60%29%5B0%5D%3B%0A%20%20%20%20%20%20%20%20%20%20%20%20popup_fe5f7dc5a95f4071b8d9411e0ce22462.setContent%28html_b5e12d54fb1f48d281077af657dc0b7e%29%3B%0A%20%20%20%20%20%20%20%20%0A%0A%20%20%20%20%20%20%20%20marker_2d44e0ceb5d543f58c12dd6f42d17891.bindPopup%28popup_fe5f7dc5a95f4071b8d9411e0ce22462%29%0A%20%20%20%20%20%20%20%20%3B%0A%0A%20%20%20%20%20%20%20%20%0A%20%20%20%20%0A%20%20%20%20%0A%20%20%20%20%20%20%20%20%20%20%20%20var%20marker_498554d7703c4637bd1afb4db558cf67%20%3D%20L.marker%28%0A%20%20%20%20%20%20%20%20%20%20%20%20%20%20%20%20%5B50.617167%2C%2013.191167%5D%2C%0A%20%20%20%20%20%20%20%20%20%20%20%20%20%20%20%20%7B%7D%0A%20%20%20%20%20%20%20%20%20%20%20%20%29.addTo%28marker_cluster_792eec222c2641cb904a0a361620787a%29%3B%0A%20%20%20%20%20%20%20%20%0A%20%20%20%20%0A%20%20%20%20%20%20%20%20var%20popup_25e9a071aeed440f91b7bdc2a9848c98%20%3D%20L.popup%28%7B%22maxWidth%22%3A%20%22100%25%22%7D%29%3B%0A%0A%20%20%20%20%20%20%20%20%0A%20%20%20%20%20%20%20%20%20%20%20%20var%20html_8e2ff08b6c9c44e5b23c97aa5268f02e%20%3D%20%24%28%60%3Cdiv%20id%3D%22html_8e2ff08b6c9c44e5b23c97aa5268f02e%22%20style%3D%22width%3A%20100.0%25%3B%20height%3A%20100.0%25%3B%22%3EErzgebirge%2C%20Rote%20Pockau%3C/div%3E%60%29%5B0%5D%3B%0A%20%20%20%20%20%20%20%20%20%20%20%20popup_25e9a071aeed440f91b7bdc2a9848c98.setContent%28html_8e2ff08b6c9c44e5b23c97aa5268f02e%29%3B%0A%20%20%20%20%20%20%20%20%0A%0A%20%20%20%20%20%20%20%20marker_498554d7703c4637bd1afb4db558cf67.bindPopup%28popup_25e9a071aeed440f91b7bdc2a9848c98%29%0A%20%20%20%20%20%20%20%20%3B%0A%0A%20%20%20%20%20%20%20%20%0A%20%20%20%20%0A%20%20%20%20%0A%20%20%20%20%20%20%20%20%20%20%20%20var%20marker_aa7b4f4babef46a78ac965e92768a9e4%20%3D%20L.marker%28%0A%20%20%20%20%20%20%20%20%20%20%20%20%20%20%20%20%5B48.939667%2C%2013.405333%5D%2C%0A%20%20%20%20%20%20%20%20%20%20%20%20%20%20%20%20%7B%7D%0A%20%20%20%20%20%20%20%20%20%20%20%20%29.addTo%28marker_cluster_792eec222c2641cb904a0a361620787a%29%3B%0A%20%20%20%20%20%20%20%20%0A%20%20%20%20%0A%20%20%20%20%20%20%20%20var%20popup_68888ef39a5f4d3e9606d2b5ea51f977%20%3D%20L.popup%28%7B%22maxWidth%22%3A%20%22100%25%22%7D%29%3B%0A%0A%20%20%20%20%20%20%20%20%0A%20%20%20%20%20%20%20%20%20%20%20%20var%20html_0532b847ec194257946f4db7629c779a%20%3D%20%24%28%60%3Cdiv%20id%3D%22html_0532b847ec194257946f4db7629c779a%22%20style%3D%22width%3A%20100.0%25%3B%20height%3A%20100.0%25%3B%22%3EBayerischer%20Wald%2C%20Seebach%3C/div%3E%60%29%5B0%5D%3B%0A%20%20%20%20%20%20%20%20%20%20%20%20popup_68888ef39a5f4d3e9606d2b5ea51f977.setContent%28html_0532b847ec194257946f4db7629c779a%29%3B%0A%20%20%20%20%20%20%20%20%0A%0A%20%20%20%20%20%20%20%20marker_aa7b4f4babef46a78ac965e92768a9e4.bindPopup%28popup_68888ef39a5f4d3e9606d2b5ea51f977%29%0A%20%20%20%20%20%20%20%20%3B%0A%0A%20%20%20%20%20%20%20%20%0A%20%20%20%20%0A%20%20%20%20%0A%20%20%20%20%20%20%20%20%20%20%20%20var%20marker_a2c67cfdb61f4bdfac760a02f4a1fc4e%20%3D%20L.marker%28%0A%20%20%20%20%20%20%20%20%20%20%20%20%20%20%20%20%5B50.487167%2C%2012.641167%5D%2C%0A%20%20%20%20%20%20%20%20%20%20%20%20%20%20%20%20%7B%7D%0A%20%20%20%20%20%20%20%20%20%20%20%20%29.addTo%28marker_cluster_792eec222c2641cb904a0a361620787a%29%3B%0A%20%20%20%20%20%20%20%20%0A%20%20%20%20%0A%20%20%20%20%20%20%20%20var%20popup_ad08cde0e3f546929f08085030ea01a4%20%3D%20L.popup%28%7B%22maxWidth%22%3A%20%22100%25%22%7D%29%3B%0A%0A%20%20%20%20%20%20%20%20%0A%20%20%20%20%20%20%20%20%20%20%20%20var%20html_07553c05bdd141ad813f16d2be7814a2%20%3D%20%24%28%60%3Cdiv%20id%3D%22html_07553c05bdd141ad813f16d2be7814a2%22%20style%3D%22width%3A%20100.0%25%3B%20height%3A%20100.0%25%3B%22%3EErzgebirge%2C%20Talsperre%20Sosa%3C/div%3E%60%29%5B0%5D%3B%0A%20%20%20%20%20%20%20%20%20%20%20%20popup_ad08cde0e3f546929f08085030ea01a4.setContent%28html_07553c05bdd141ad813f16d2be7814a2%29%3B%0A%20%20%20%20%20%20%20%20%0A%0A%20%20%20%20%20%20%20%20marker_a2c67cfdb61f4bdfac760a02f4a1fc4e.bindPopup%28popup_ad08cde0e3f546929f08085030ea01a4%29%0A%20%20%20%20%20%20%20%20%3B%0A%0A%20%20%20%20%20%20%20%20%0A%20%20%20%20%0A%20%20%20%20%0A%20%20%20%20%20%20%20%20%20%20%20%20var%20marker_69d64cf2127e40c28b81bbf39b1be8e2%20%3D%20L.marker%28%0A%20%20%20%20%20%20%20%20%20%20%20%20%20%20%20%20%5B49.718667%2C%207.109833%5D%2C%0A%20%20%20%20%20%20%20%20%20%20%20%20%20%20%20%20%7B%7D%0A%20%20%20%20%20%20%20%20%20%20%20%20%29.addTo%28marker_cluster_792eec222c2641cb904a0a361620787a%29%3B%0A%20%20%20%20%20%20%20%20%0A%20%20%20%20%0A%20%20%20%20%20%20%20%20var%20popup_6e9e836376514134afcd5e63fe93409a%20%3D%20L.popup%28%7B%22maxWidth%22%3A%20%22100%25%22%7D%29%3B%0A%0A%20%20%20%20%20%20%20%20%0A%20%20%20%20%20%20%20%20%20%20%20%20var%20html_39f929ea727f4873b968ce483fdc548f%20%3D%20%24%28%60%3Cdiv%20id%3D%22html_39f929ea727f4873b968ce483fdc548f%22%20style%3D%22width%3A%20100.0%25%3B%20height%3A%20100.0%25%3B%22%3EHunsr%C3%BCck%2C%20Traunbach%201%3C/div%3E%60%29%5B0%5D%3B%0A%20%20%20%20%20%20%20%20%20%20%20%20popup_6e9e836376514134afcd5e63fe93409a.setContent%28html_39f929ea727f4873b968ce483fdc548f%29%3B%0A%20%20%20%20%20%20%20%20%0A%0A%20%20%20%20%20%20%20%20marker_69d64cf2127e40c28b81bbf39b1be8e2.bindPopup%28popup_6e9e836376514134afcd5e63fe93409a%29%0A%20%20%20%20%20%20%20%20%3B%0A%0A%20%20%20%20%20%20%20%20%0A%20%20%20%20%0A%20%20%20%20%0A%20%20%20%20%20%20%20%20%20%20%20%20var%20marker_f788924cc4a549a585f664231733b532%20%3D%20L.marker%28%0A%20%20%20%20%20%20%20%20%20%20%20%20%20%20%20%20%5B48.935833%2C%2013.4085%5D%2C%0A%20%20%20%20%20%20%20%20%20%20%20%20%20%20%20%20%7B%7D%0A%20%20%20%20%20%20%20%20%20%20%20%20%29.addTo%28marker_cluster_792eec222c2641cb904a0a361620787a%29%3B%0A%20%20%20%20%20%20%20%20%0A%20%20%20%20%0A%20%20%20%20%20%20%20%20var%20popup_1d8b29b83a284f6595894aff8068aa95%20%3D%20L.popup%28%7B%22maxWidth%22%3A%20%22100%25%22%7D%29%3B%0A%0A%20%20%20%20%20%20%20%20%0A%20%20%20%20%20%20%20%20%20%20%20%20var%20html_368a2e35274f4f659531d19ccf8c67a2%20%3D%20%24%28%60%3Cdiv%20id%3D%22html_368a2e35274f4f659531d19ccf8c67a2%22%20style%3D%22width%3A%20100.0%25%3B%20height%3A%20100.0%25%3B%22%3EBayerischer%20Wald%2C%20Vorderer%20Schachtenbach%3C/div%3E%60%29%5B0%5D%3B%0A%20%20%20%20%20%20%20%20%20%20%20%20popup_1d8b29b83a284f6595894aff8068aa95.setContent%28html_368a2e35274f4f659531d19ccf8c67a2%29%3B%0A%20%20%20%20%20%20%20%20%0A%0A%20%20%20%20%20%20%20%20marker_f788924cc4a549a585f664231733b532.bindPopup%28popup_1d8b29b83a284f6595894aff8068aa95%29%0A%20%20%20%20%20%20%20%20%3B%0A%0A%20%20%20%20%20%20%20%20%0A%20%20%20%20%0A%20%20%20%20%0A%20%20%20%20%20%20%20%20%20%20%20%20var%20marker_ae1866d0df78465db3c3d1dc05182648%20%3D%20L.marker%28%0A%20%20%20%20%20%20%20%20%20%20%20%20%20%20%20%20%5B49.769167%2C%2012.421333%5D%2C%0A%20%20%20%20%20%20%20%20%20%20%20%20%20%20%20%20%7B%7D%0A%20%20%20%20%20%20%20%20%20%20%20%20%29.addTo%28marker_cluster_792eec222c2641cb904a0a361620787a%29%3B%0A%20%20%20%20%20%20%20%20%0A%20%20%20%20%0A%20%20%20%20%20%20%20%20var%20popup_cd4228b5d7c94c3ab44117aac175cd9f%20%3D%20L.popup%28%7B%22maxWidth%22%3A%20%22100%25%22%7D%29%3B%0A%0A%20%20%20%20%20%20%20%20%0A%20%20%20%20%20%20%20%20%20%20%20%20var%20html_3834ce551b2a4f3aab16a0a02a919f0c%20%3D%20%24%28%60%3Cdiv%20id%3D%22html_3834ce551b2a4f3aab16a0a02a919f0c%22%20style%3D%22width%3A%20100.0%25%3B%20height%3A%20100.0%25%3B%22%3EOberpf%C3%A4lzer%20Wald.%20Waldnaab%202%3C/div%3E%60%29%5B0%5D%3B%0A%20%20%20%20%20%20%20%20%20%20%20%20popup_cd4228b5d7c94c3ab44117aac175cd9f.setContent%28html_3834ce551b2a4f3aab16a0a02a919f0c%29%3B%0A%20%20%20%20%20%20%20%20%0A%0A%20%20%20%20%20%20%20%20marker_ae1866d0df78465db3c3d1dc05182648.bindPopup%28popup_cd4228b5d7c94c3ab44117aac175cd9f%29%0A%20%20%20%20%20%20%20%20%3B%0A%0A%20%20%20%20%20%20%20%20%0A%20%20%20%20%0A%20%20%20%20%0A%20%20%20%20%20%20%20%20%20%20%20%20var%20marker_e61ea5b3b8a04748b30dc0b4f3a23402%20%3D%20L.marker%28%0A%20%20%20%20%20%20%20%20%20%20%20%20%20%20%20%20%5B49.789%2C%2012.424167%5D%2C%0A%20%20%20%20%20%20%20%20%20%20%20%20%20%20%20%20%7B%7D%0A%20%20%20%20%20%20%20%20%20%20%20%20%29.addTo%28marker_cluster_792eec222c2641cb904a0a361620787a%29%3B%0A%20%20%20%20%20%20%20%20%0A%20%20%20%20%0A%20%20%20%20%20%20%20%20var%20popup_de4d8916b21244f5b914e81a0e78e8bb%20%3D%20L.popup%28%7B%22maxWidth%22%3A%20%22100%25%22%7D%29%3B%0A%0A%20%20%20%20%20%20%20%20%0A%20%20%20%20%20%20%20%20%20%20%20%20var%20html_a4bc223a891d444cbb78816ca4eb1f36%20%3D%20%24%28%60%3Cdiv%20id%3D%22html_a4bc223a891d444cbb78816ca4eb1f36%22%20style%3D%22width%3A%20100.0%25%3B%20height%3A%20100.0%25%3B%22%3EOberpf%C3%A4lzer%20Wald%2C%20Waldnaab%208%3C/div%3E%60%29%5B0%5D%3B%0A%20%20%20%20%20%20%20%20%20%20%20%20popup_de4d8916b21244f5b914e81a0e78e8bb.setContent%28html_a4bc223a891d444cbb78816ca4eb1f36%29%3B%0A%20%20%20%20%20%20%20%20%0A%0A%20%20%20%20%20%20%20%20marker_e61ea5b3b8a04748b30dc0b4f3a23402.bindPopup%28popup_de4d8916b21244f5b914e81a0e78e8bb%29%0A%20%20%20%20%20%20%20%20%3B%0A%0A%20%20%20%20%20%20%20%20%0A%20%20%20%20%0A%20%20%20%20%0A%20%20%20%20%20%20%20%20%20%20%20%20var%20marker_abe45cb4394a495ca87d65fa4f6c90b4%20%3D%20L.marker%28%0A%20%20%20%20%20%20%20%20%20%20%20%20%20%20%20%20%5B50.722%2C%2013.706167%5D%2C%0A%20%20%20%20%20%20%20%20%20%20%20%20%20%20%20%20%7B%7D%0A%20%20%20%20%20%20%20%20%20%20%20%20%29.addTo%28marker_cluster_792eec222c2641cb904a0a361620787a%29%3B%0A%20%20%20%20%20%20%20%20%0A%20%20%20%20%0A%20%20%20%20%20%20%20%20var%20popup_3b33654335e545df82f539c276d5f857%20%3D%20L.popup%28%7B%22maxWidth%22%3A%20%22100%25%22%7D%29%3B%0A%0A%20%20%20%20%20%20%20%20%0A%20%20%20%20%20%20%20%20%20%20%20%20var%20html_70b567b9d39c4628a2a6804ae62e2163%20%3D%20%24%28%60%3Cdiv%20id%3D%22html_70b567b9d39c4628a2a6804ae62e2163%22%20style%3D%22width%3A%20100.0%25%3B%20height%3A%20100.0%25%3B%22%3EErzgebirge%2C%20Wilde%20Weisseritz%3C/div%3E%60%29%5B0%5D%3B%0A%20%20%20%20%20%20%20%20%20%20%20%20popup_3b33654335e545df82f539c276d5f857.setContent%28html_70b567b9d39c4628a2a6804ae62e2163%29%3B%0A%20%20%20%20%20%20%20%20%0A%0A%20%20%20%20%20%20%20%20marker_abe45cb4394a495ca87d65fa4f6c90b4.bindPopup%28popup_3b33654335e545df82f539c276d5f857%29%0A%20%20%20%20%20%20%20%20%3B%0A%0A%20%20%20%20%20%20%20%20%0A%20%20%20%20%0A%20%20%20%20%0A%20%20%20%20%20%20%20%20%20%20%20%20var%20marker_a6c0147d80c349fd94a56cf0c98f5d50%20%3D%20L.marker%28%0A%20%20%20%20%20%20%20%20%20%20%20%20%20%20%20%20%5B51.001167%2C%208.203333%5D%2C%0A%20%20%20%20%20%20%20%20%20%20%20%20%20%20%20%20%7B%7D%0A%20%20%20%20%20%20%20%20%20%20%20%20%29.addTo%28marker_cluster_792eec222c2641cb904a0a361620787a%29%3B%0A%20%20%20%20%20%20%20%20%0A%20%20%20%20%0A%20%20%20%20%20%20%20%20var%20popup_ab1bda26d63b400fbb410b3e0f652064%20%3D%20L.popup%28%7B%22maxWidth%22%3A%20%22100%25%22%7D%29%3B%0A%0A%20%20%20%20%20%20%20%20%0A%20%20%20%20%20%20%20%20%20%20%20%20var%20html_f9571445f0d745eb9ba158a881f0b0f9%20%3D%20%24%28%60%3Cdiv%20id%3D%22html_f9571445f0d745eb9ba158a881f0b0f9%22%20style%3D%22width%3A%20100.0%25%3B%20height%3A%20100.0%25%3B%22%3ERothaargebirge%2C%20Zinse%3C/div%3E%60%29%5B0%5D%3B%0A%20%20%20%20%20%20%20%20%20%20%20%20popup_ab1bda26d63b400fbb410b3e0f652064.setContent%28html_f9571445f0d745eb9ba158a881f0b0f9%29%3B%0A%20%20%20%20%20%20%20%20%0A%0A%20%20%20%20%20%20%20%20marker_a6c0147d80c349fd94a56cf0c98f5d50.bindPopup%28popup_ab1bda26d63b400fbb410b3e0f652064%29%0A%20%20%20%20%20%20%20%20%3B%0A%0A%20%20%20%20%20%20%20%20%0A%20%20%20%20%0A%20%20%20%20%0A%20%20%20%20%20%20%20%20%20%20%20%20var%20marker_0245f1ed2ca74b7c9e4c0cc1be156755%20%3D%20L.marker%28%0A%20%20%20%20%20%20%20%20%20%20%20%20%20%20%20%20%5B50.005333%2C%2011.900833%5D%2C%0A%20%20%20%20%20%20%20%20%20%20%20%20%20%20%20%20%7B%7D%0A%20%20%20%20%20%20%20%20%20%20%20%20%29.addTo%28marker_cluster_792eec222c2641cb904a0a361620787a%29%3B%0A%20%20%20%20%20%20%20%20%0A%20%20%20%20%0A%20%20%20%20%20%20%20%20var%20popup_1b8efec65afa46daab6c1e6f9d7e73f8%20%3D%20L.popup%28%7B%22maxWidth%22%3A%20%22100%25%22%7D%29%3B%0A%0A%20%20%20%20%20%20%20%20%0A%20%20%20%20%20%20%20%20%20%20%20%20var%20html_0559224ec84c4b35bc53976810878613%20%3D%20%24%28%60%3Cdiv%20id%3D%22html_0559224ec84c4b35bc53976810878613%22%20style%3D%22width%3A%20100.0%25%3B%20height%3A%20100.0%25%3B%22%3EFichtelgebirge%2C%20Zinnbach%3C/div%3E%60%29%5B0%5D%3B%0A%20%20%20%20%20%20%20%20%20%20%20%20popup_1b8efec65afa46daab6c1e6f9d7e73f8.setContent%28html_0559224ec84c4b35bc53976810878613%29%3B%0A%20%20%20%20%20%20%20%20%0A%0A%20%20%20%20%20%20%20%20marker_0245f1ed2ca74b7c9e4c0cc1be156755.bindPopup%28popup_1b8efec65afa46daab6c1e6f9d7e73f8%29%0A%20%20%20%20%20%20%20%20%3B%0A%0A%20%20%20%20%20%20%20%20%0A%20%20%20%20%0A%20%20%20%20%0A%20%20%20%20%20%20%20%20%20%20%20%20var%20marker_226ffbfc0bc64a779584fc0c4745852d%20%3D%20L.marker%28%0A%20%20%20%20%20%20%20%20%20%20%20%20%20%20%20%20%5B46.169%2C%208.187667%5D%2C%0A%20%20%20%20%20%20%20%20%20%20%20%20%20%20%20%20%7B%7D%0A%20%20%20%20%20%20%20%20%20%20%20%20%29.addTo%28marker_cluster_792eec222c2641cb904a0a361620787a%29%3B%0A%20%20%20%20%20%20%20%20%0A%20%20%20%20%0A%20%20%20%20%20%20%20%20var%20popup_8920e58bea55472f9566497bb5fd12bc%20%3D%20L.popup%28%7B%22maxWidth%22%3A%20%22100%25%22%7D%29%3B%0A%0A%20%20%20%20%20%20%20%20%0A%20%20%20%20%20%20%20%20%20%20%20%20var%20html_e794ffd20af245efa5fe92686bf408d4%20%3D%20%24%28%60%3Cdiv%20id%3D%22html_e794ffd20af245efa5fe92686bf408d4%22%20style%3D%22width%3A%20100.0%25%3B%20height%3A%20100.0%25%3B%22%3EPiemonte%2C%20Lake%20Paione%20Inferiore%3C/div%3E%60%29%5B0%5D%3B%0A%20%20%20%20%20%20%20%20%20%20%20%20popup_8920e58bea55472f9566497bb5fd12bc.setContent%28html_e794ffd20af245efa5fe92686bf408d4%29%3B%0A%20%20%20%20%20%20%20%20%0A%0A%20%20%20%20%20%20%20%20marker_226ffbfc0bc64a779584fc0c4745852d.bindPopup%28popup_8920e58bea55472f9566497bb5fd12bc%29%0A%20%20%20%20%20%20%20%20%3B%0A%0A%20%20%20%20%20%20%20%20%0A%20%20%20%20%0A%20%20%20%20%0A%20%20%20%20%20%20%20%20%20%20%20%20var%20marker_5524fa29c6c24d159e21e81e5b19fa09%20%3D%20L.marker%28%0A%20%20%20%20%20%20%20%20%20%20%20%20%20%20%20%20%5B45.9535%2C%208.457833%5D%2C%0A%20%20%20%20%20%20%20%20%20%20%20%20%20%20%20%20%7B%7D%0A%20%20%20%20%20%20%20%20%20%20%20%20%29.addTo%28marker_cluster_792eec222c2641cb904a0a361620787a%29%3B%0A%20%20%20%20%20%20%20%20%0A%20%20%20%20%0A%20%20%20%20%20%20%20%20var%20popup_df770d8c6dce404a95adac3586a3d302%20%3D%20L.popup%28%7B%22maxWidth%22%3A%20%22100%25%22%7D%29%3B%0A%0A%20%20%20%20%20%20%20%20%0A%20%20%20%20%20%20%20%20%20%20%20%20var%20html_7ab4a4572af64490b5c607b845d82379%20%3D%20%24%28%60%3Cdiv%20id%3D%22html_7ab4a4572af64490b5c607b845d82379%22%20style%3D%22width%3A%20100.0%25%3B%20height%3A%20100.0%25%3B%22%3EPiemonte%2C%20Lake%20di%20Mergozzo%3C/div%3E%60%29%5B0%5D%3B%0A%20%20%20%20%20%20%20%20%20%20%20%20popup_df770d8c6dce404a95adac3586a3d302.setContent%28html_7ab4a4572af64490b5c607b845d82379%29%3B%0A%20%20%20%20%20%20%20%20%0A%0A%20%20%20%20%20%20%20%20marker_5524fa29c6c24d159e21e81e5b19fa09.bindPopup%28popup_df770d8c6dce404a95adac3586a3d302%29%0A%20%20%20%20%20%20%20%20%3B%0A%0A%20%20%20%20%20%20%20%20%0A%20%20%20%20%0A%20%20%20%20%0A%20%20%20%20%20%20%20%20%20%20%20%20var%20marker_21cc90cfb0ca42c1a9065e3cdec1fdc0%20%3D%20L.marker%28%0A%20%20%20%20%20%20%20%20%20%20%20%20%20%20%20%20%5B46.173167%2C%208.187667%5D%2C%0A%20%20%20%20%20%20%20%20%20%20%20%20%20%20%20%20%7B%7D%0A%20%20%20%20%20%20%20%20%20%20%20%20%29.addTo%28marker_cluster_792eec222c2641cb904a0a361620787a%29%3B%0A%20%20%20%20%20%20%20%20%0A%20%20%20%20%0A%20%20%20%20%20%20%20%20var%20popup_4f9c269efdb746a6bb759d00e407320f%20%3D%20L.popup%28%7B%22maxWidth%22%3A%20%22100%25%22%7D%29%3B%0A%0A%20%20%20%20%20%20%20%20%0A%20%20%20%20%20%20%20%20%20%20%20%20var%20html_efe9d33b391a4ae69afb56f9964101b7%20%3D%20%24%28%60%3Cdiv%20id%3D%22html_efe9d33b391a4ae69afb56f9964101b7%22%20style%3D%22width%3A%20100.0%25%3B%20height%3A%20100.0%25%3B%22%3EPiemonte%2C%20Lake%20Paione%20Superiore%3C/div%3E%60%29%5B0%5D%3B%0A%20%20%20%20%20%20%20%20%20%20%20%20popup_4f9c269efdb746a6bb759d00e407320f.setContent%28html_efe9d33b391a4ae69afb56f9964101b7%29%3B%0A%20%20%20%20%20%20%20%20%0A%0A%20%20%20%20%20%20%20%20marker_21cc90cfb0ca42c1a9065e3cdec1fdc0.bindPopup%28popup_4f9c269efdb746a6bb759d00e407320f%29%0A%20%20%20%20%20%20%20%20%3B%0A%0A%20%20%20%20%20%20%20%20%0A%20%20%20%20%0A%20%20%20%20%0A%20%20%20%20%20%20%20%20%20%20%20%20var%20marker_713b1d9516354b7bbee65176f9228000%20%3D%20L.marker%28%0A%20%20%20%20%20%20%20%20%20%20%20%20%20%20%20%20%5B46.068%2C%208.692667%5D%2C%0A%20%20%20%20%20%20%20%20%20%20%20%20%20%20%20%20%7B%7D%0A%20%20%20%20%20%20%20%20%20%20%20%20%29.addTo%28marker_cluster_792eec222c2641cb904a0a361620787a%29%3B%0A%20%20%20%20%20%20%20%20%0A%20%20%20%20%0A%20%20%20%20%20%20%20%20var%20popup_b60ca9a51d514e39ae1af8e49cd7840d%20%3D%20L.popup%28%7B%22maxWidth%22%3A%20%22100%25%22%7D%29%3B%0A%0A%20%20%20%20%20%20%20%20%0A%20%20%20%20%20%20%20%20%20%20%20%20var%20html_76aa797d6d2b4486bd38842395cebf96%20%3D%20%24%28%60%3Cdiv%20id%3D%22html_76aa797d6d2b4486bd38842395cebf96%22%20style%3D%22width%3A%20100.0%25%3B%20height%3A%20100.0%25%3B%22%3EPiemonte%2C%20River%20Cannobino%3C/div%3E%60%29%5B0%5D%3B%0A%20%20%20%20%20%20%20%20%20%20%20%20popup_b60ca9a51d514e39ae1af8e49cd7840d.setContent%28html_76aa797d6d2b4486bd38842395cebf96%29%3B%0A%20%20%20%20%20%20%20%20%0A%0A%20%20%20%20%20%20%20%20marker_713b1d9516354b7bbee65176f9228000.bindPopup%28popup_b60ca9a51d514e39ae1af8e49cd7840d%29%0A%20%20%20%20%20%20%20%20%3B%0A%0A%20%20%20%20%20%20%20%20%0A%20%20%20%20%0A%20%20%20%20%0A%20%20%20%20%20%20%20%20%20%20%20%20var%20marker_e49e5144cc64400b9718d8e913e3726f%20%3D%20L.marker%28%0A%20%20%20%20%20%20%20%20%20%20%20%20%20%20%20%20%5B45.8015%2C%208.3865%5D%2C%0A%20%20%20%20%20%20%20%20%20%20%20%20%20%20%20%20%7B%7D%0A%20%20%20%20%20%20%20%20%20%20%20%20%29.addTo%28marker_cluster_792eec222c2641cb904a0a361620787a%29%3B%0A%20%20%20%20%20%20%20%20%0A%20%20%20%20%0A%20%20%20%20%20%20%20%20var%20popup_6d2077f988a8480cbd2719f6d8df3a79%20%3D%20L.popup%28%7B%22maxWidth%22%3A%20%22100%25%22%7D%29%3B%0A%0A%20%20%20%20%20%20%20%20%0A%20%20%20%20%20%20%20%20%20%20%20%20var%20html_51b0f27eea264f1f8f59cf1cc384c9c0%20%3D%20%24%28%60%3Cdiv%20id%3D%22html_51b0f27eea264f1f8f59cf1cc384c9c0%22%20style%3D%22width%3A%20100.0%25%3B%20height%3A%20100.0%25%3B%22%3EPiemonte%2C%20River%20Pellino%3C/div%3E%60%29%5B0%5D%3B%0A%20%20%20%20%20%20%20%20%20%20%20%20popup_6d2077f988a8480cbd2719f6d8df3a79.setContent%28html_51b0f27eea264f1f8f59cf1cc384c9c0%29%3B%0A%20%20%20%20%20%20%20%20%0A%0A%20%20%20%20%20%20%20%20marker_e49e5144cc64400b9718d8e913e3726f.bindPopup%28popup_6d2077f988a8480cbd2719f6d8df3a79%29%0A%20%20%20%20%20%20%20%20%3B%0A%0A%20%20%20%20%20%20%20%20%0A%20%20%20%20%0A%20%20%20%20%0A%20%20%20%20%20%20%20%20%20%20%20%20var%20marker_c1b7fc8423bd4a718021baefcf9417e1%20%3D%20L.marker%28%0A%20%20%20%20%20%20%20%20%20%20%20%20%20%20%20%20%5B45.791667%2C%208.384667%5D%2C%0A%20%20%20%20%20%20%20%20%20%20%20%20%20%20%20%20%7B%7D%0A%20%20%20%20%20%20%20%20%20%20%20%20%29.addTo%28marker_cluster_792eec222c2641cb904a0a361620787a%29%3B%0A%20%20%20%20%20%20%20%20%0A%20%20%20%20%0A%20%20%20%20%20%20%20%20var%20popup_ae82af649da3432a89ad9fa1b5f178b0%20%3D%20L.popup%28%7B%22maxWidth%22%3A%20%22100%25%22%7D%29%3B%0A%0A%20%20%20%20%20%20%20%20%0A%20%20%20%20%20%20%20%20%20%20%20%20var%20html_7a3ce4ca664c4fc7a312f192891faeed%20%3D%20%24%28%60%3Cdiv%20id%3D%22html_7a3ce4ca664c4fc7a312f192891faeed%22%20style%3D%22width%3A%20100.0%25%3B%20height%3A%20100.0%25%3B%22%3EPiemonte%2C%20River%20Pellesino%3C/div%3E%60%29%5B0%5D%3B%0A%20%20%20%20%20%20%20%20%20%20%20%20popup_ae82af649da3432a89ad9fa1b5f178b0.setContent%28html_7a3ce4ca664c4fc7a312f192891faeed%29%3B%0A%20%20%20%20%20%20%20%20%0A%0A%20%20%20%20%20%20%20%20marker_c1b7fc8423bd4a718021baefcf9417e1.bindPopup%28popup_ae82af649da3432a89ad9fa1b5f178b0%29%0A%20%20%20%20%20%20%20%20%3B%0A%0A%20%20%20%20%20%20%20%20%0A%20%20%20%20%0A%20%20%20%20%0A%20%20%20%20%20%20%20%20%20%20%20%20var%20marker_52c3de9879a04f7e905d418b6df4914f%20%3D%20L.marker%28%0A%20%20%20%20%20%20%20%20%20%20%20%20%20%20%20%20%5B61.637851%2C%2017.086353%5D%2C%0A%20%20%20%20%20%20%20%20%20%20%20%20%20%20%20%20%7B%7D%0A%20%20%20%20%20%20%20%20%20%20%20%20%29.addTo%28marker_cluster_792eec222c2641cb904a0a361620787a%29%3B%0A%20%20%20%20%20%20%20%20%0A%20%20%20%20%0A%20%20%20%20%20%20%20%20var%20popup_f4474bf4d9b2431c840b4078dc34f639%20%3D%20L.popup%28%7B%22maxWidth%22%3A%20%22100%25%22%7D%29%3B%0A%0A%20%20%20%20%20%20%20%20%0A%20%20%20%20%20%20%20%20%20%20%20%20var%20html_1b84cb2673234b00bb6d805e2559f549%20%3D%20%24%28%60%3Cdiv%20id%3D%22html_1b84cb2673234b00bb6d805e2559f549%22%20style%3D%22width%3A%20100.0%25%3B%20height%3A%20100.0%25%3B%22%3EDel%C3%A5ngers%C3%A5n%20Iggersund%3C/div%3E%60%29%5B0%5D%3B%0A%20%20%20%20%20%20%20%20%20%20%20%20popup_f4474bf4d9b2431c840b4078dc34f639.setContent%28html_1b84cb2673234b00bb6d805e2559f549%29%3B%0A%20%20%20%20%20%20%20%20%0A%0A%20%20%20%20%20%20%20%20marker_52c3de9879a04f7e905d418b6df4914f.bindPopup%28popup_f4474bf4d9b2431c840b4078dc34f639%29%0A%20%20%20%20%20%20%20%20%3B%0A%0A%20%20%20%20%20%20%20%20%0A%20%20%20%20%0A%20%20%20%20%0A%20%20%20%20%20%20%20%20%20%20%20%20var%20marker_a542d450537d418faa0ecd0f6ab42ccd%20%3D%20L.marker%28%0A%20%20%20%20%20%20%20%20%20%20%20%20%20%20%20%20%5B57.008911%2C%2016.161882%5D%2C%0A%20%20%20%20%20%20%20%20%20%20%20%20%20%20%20%20%7B%7D%0A%20%20%20%20%20%20%20%20%20%20%20%20%29.addTo%28marker_cluster_792eec222c2641cb904a0a361620787a%29%3B%0A%20%20%20%20%20%20%20%20%0A%20%20%20%20%0A%20%20%20%20%20%20%20%20var%20popup_3471bea0d513450a94aac8dcf8046f1e%20%3D%20L.popup%28%7B%22maxWidth%22%3A%20%22100%25%22%7D%29%3B%0A%0A%20%20%20%20%20%20%20%20%0A%20%20%20%20%20%20%20%20%20%20%20%20var%20html_2724f32551934f6f9a4a7f1c4f553456%20%3D%20%24%28%60%3Cdiv%20id%3D%22html_2724f32551934f6f9a4a7f1c4f553456%22%20style%3D%22width%3A%20100.0%25%3B%20height%3A%20100.0%25%3B%22%3EAlster%C3%A5n%20Getebro%3C/div%3E%60%29%5B0%5D%3B%0A%20%20%20%20%20%20%20%20%20%20%20%20popup_3471bea0d513450a94aac8dcf8046f1e.setContent%28html_2724f32551934f6f9a4a7f1c4f553456%29%3B%0A%20%20%20%20%20%20%20%20%0A%0A%20%20%20%20%20%20%20%20marker_a542d450537d418faa0ecd0f6ab42ccd.bindPopup%28popup_3471bea0d513450a94aac8dcf8046f1e%29%0A%20%20%20%20%20%20%20%20%3B%0A%0A%20%20%20%20%20%20%20%20%0A%20%20%20%20%0A%20%20%20%20%0A%20%20%20%20%20%20%20%20%20%20%20%20var%20marker_edea181e90514fb8ab6d588b00e1b1d1%20%3D%20L.marker%28%0A%20%20%20%20%20%20%20%20%20%20%20%20%20%20%20%20%5B57.091989%2C%2014.529586%5D%2C%0A%20%20%20%20%20%20%20%20%20%20%20%20%20%20%20%20%7B%7D%0A%20%20%20%20%20%20%20%20%20%20%20%20%29.addTo%28marker_cluster_792eec222c2641cb904a0a361620787a%29%3B%0A%20%20%20%20%20%20%20%20%0A%20%20%20%20%0A%20%20%20%20%20%20%20%20var%20popup_1dbdf6ff950943df9f127f8659c800f7%20%3D%20L.popup%28%7B%22maxWidth%22%3A%20%22100%25%22%7D%29%3B%0A%0A%20%20%20%20%20%20%20%20%0A%20%20%20%20%20%20%20%20%20%20%20%20var%20html_d21c6cb77bcc47b1991fd06ab9bab6e7%20%3D%20%24%28%60%3Cdiv%20id%3D%22html_d21c6cb77bcc47b1991fd06ab9bab6e7%22%20style%3D%22width%3A%20100.0%25%3B%20height%3A%20100.0%25%3B%22%3EFiolen%3C/div%3E%60%29%5B0%5D%3B%0A%20%20%20%20%20%20%20%20%20%20%20%20popup_1dbdf6ff950943df9f127f8659c800f7.setContent%28html_d21c6cb77bcc47b1991fd06ab9bab6e7%29%3B%0A%20%20%20%20%20%20%20%20%0A%0A%20%20%20%20%20%20%20%20marker_edea181e90514fb8ab6d588b00e1b1d1.bindPopup%28popup_1dbdf6ff950943df9f127f8659c800f7%29%0A%20%20%20%20%20%20%20%20%3B%0A%0A%20%20%20%20%20%20%20%20%0A%20%20%20%20%0A%20%20%20%20%0A%20%20%20%20%20%20%20%20%20%20%20%20var%20marker_8711b921470246959875de132b5ef322%20%3D%20L.marker%28%0A%20%20%20%20%20%20%20%20%20%20%20%20%20%20%20%20%5B49.181414%2C%2013.186624%5D%2C%0A%20%20%20%20%20%20%20%20%20%20%20%20%20%20%20%20%7B%7D%0A%20%20%20%20%20%20%20%20%20%20%20%20%29.addTo%28marker_cluster_792eec222c2641cb904a0a361620787a%29%3B%0A%20%20%20%20%20%20%20%20%0A%20%20%20%20%0A%20%20%20%20%20%20%20%20var%20popup_085d9f3be3784d5298619af42dbd36f0%20%3D%20L.popup%28%7B%22maxWidth%22%3A%20%22100%25%22%7D%29%3B%0A%0A%20%20%20%20%20%20%20%20%0A%20%20%20%20%20%20%20%20%20%20%20%20var%20html_3e17003deb3d481c92bf2fd2b954434f%20%3D%20%24%28%60%3Cdiv%20id%3D%22html_3e17003deb3d481c92bf2fd2b954434f%22%20style%3D%22width%3A%20100.0%25%3B%20height%3A%20100.0%25%3B%22%3EBohemian%20Forest%2C%20Cerne%3C/div%3E%60%29%5B0%5D%3B%0A%20%20%20%20%20%20%20%20%20%20%20%20popup_085d9f3be3784d5298619af42dbd36f0.setContent%28html_3e17003deb3d481c92bf2fd2b954434f%29%3B%0A%20%20%20%20%20%20%20%20%0A%0A%20%20%20%20%20%20%20%20marker_8711b921470246959875de132b5ef322.bindPopup%28popup_085d9f3be3784d5298619af42dbd36f0%29%0A%20%20%20%20%20%20%20%20%3B%0A%0A%20%20%20%20%20%20%20%20%0A%20%20%20%20%0A%20%20%20%20%0A%20%20%20%20%20%20%20%20%20%20%20%20var%20marker_e9fb399128064af0aeb80c334dd14443%20%3D%20L.marker%28%0A%20%20%20%20%20%20%20%20%20%20%20%20%20%20%20%20%5B49.165374%2C%2013.200272%5D%2C%0A%20%20%20%20%20%20%20%20%20%20%20%20%20%20%20%20%7B%7D%0A%20%20%20%20%20%20%20%20%20%20%20%20%29.addTo%28marker_cluster_792eec222c2641cb904a0a361620787a%29%3B%0A%20%20%20%20%20%20%20%20%0A%20%20%20%20%0A%20%20%20%20%20%20%20%20var%20popup_dbb5e69afa9f42ebb000d854d5d1aa1f%20%3D%20L.popup%28%7B%22maxWidth%22%3A%20%22100%25%22%7D%29%3B%0A%0A%20%20%20%20%20%20%20%20%0A%20%20%20%20%20%20%20%20%20%20%20%20var%20html_112e75eb13684bf0883401de2c899883%20%3D%20%24%28%60%3Cdiv%20id%3D%22html_112e75eb13684bf0883401de2c899883%22%20style%3D%22width%3A%20100.0%25%3B%20height%3A%20100.0%25%3B%22%3EBohemian%20Forest%2C%20Certovo%3C/div%3E%60%29%5B0%5D%3B%0A%20%20%20%20%20%20%20%20%20%20%20%20popup_dbb5e69afa9f42ebb000d854d5d1aa1f.setContent%28html_112e75eb13684bf0883401de2c899883%29%3B%0A%20%20%20%20%20%20%20%20%0A%0A%20%20%20%20%20%20%20%20marker_e9fb399128064af0aeb80c334dd14443.bindPopup%28popup_dbb5e69afa9f42ebb000d854d5d1aa1f%29%0A%20%20%20%20%20%20%20%20%3B%0A%0A%20%20%20%20%20%20%20%20%0A%20%20%20%20%0A%20%20%20%20%0A%20%20%20%20%20%20%20%20%20%20%20%20var%20marker_7efe2955c574455a804ec5c464210fd4%20%3D%20L.marker%28%0A%20%20%20%20%20%20%20%20%20%20%20%20%20%20%20%20%5B48.77781%2C%2013.86773%5D%2C%0A%20%20%20%20%20%20%20%20%20%20%20%20%20%20%20%20%7B%7D%0A%20%20%20%20%20%20%20%20%20%20%20%20%29.addTo%28marker_cluster_792eec222c2641cb904a0a361620787a%29%3B%0A%20%20%20%20%20%20%20%20%0A%20%20%20%20%0A%20%20%20%20%20%20%20%20var%20popup_63d572ad110a4f2582177a7db4692323%20%3D%20L.popup%28%7B%22maxWidth%22%3A%20%22100%25%22%7D%29%3B%0A%0A%20%20%20%20%20%20%20%20%0A%20%20%20%20%20%20%20%20%20%20%20%20var%20html_1df0e264de8b4fad856002cc4f7ce90c%20%3D%20%24%28%60%3Cdiv%20id%3D%22html_1df0e264de8b4fad856002cc4f7ce90c%22%20style%3D%22width%3A%20100.0%25%3B%20height%3A%20100.0%25%3B%22%3EBohemian%20Forest%2C%20Plesne%3C/div%3E%60%29%5B0%5D%3B%0A%20%20%20%20%20%20%20%20%20%20%20%20popup_63d572ad110a4f2582177a7db4692323.setContent%28html_1df0e264de8b4fad856002cc4f7ce90c%29%3B%0A%20%20%20%20%20%20%20%20%0A%0A%20%20%20%20%20%20%20%20marker_7efe2955c574455a804ec5c464210fd4.bindPopup%28popup_63d572ad110a4f2582177a7db4692323%29%0A%20%20%20%20%20%20%20%20%3B%0A%0A%20%20%20%20%20%20%20%20%0A%20%20%20%20%0A%20%20%20%20%0A%20%20%20%20%20%20%20%20%20%20%20%20var%20marker_1b7ae1e3c00244818aa5d63e55508a96%20%3D%20L.marker%28%0A%20%20%20%20%20%20%20%20%20%20%20%20%20%20%20%20%5B49.075652%2C%2013.401425%5D%2C%0A%20%20%20%20%20%20%20%20%20%20%20%20%20%20%20%20%7B%7D%0A%20%20%20%20%20%20%20%20%20%20%20%20%29.addTo%28marker_cluster_792eec222c2641cb904a0a361620787a%29%3B%0A%20%20%20%20%20%20%20%20%0A%20%20%20%20%0A%20%20%20%20%20%20%20%20var%20popup_1628e6f69db04ecc98b588c9a53ff25d%20%3D%20L.popup%28%7B%22maxWidth%22%3A%20%22100%25%22%7D%29%3B%0A%0A%20%20%20%20%20%20%20%20%0A%20%20%20%20%20%20%20%20%20%20%20%20var%20html_5286bdcaffb140b8abbed8f6071af62a%20%3D%20%24%28%60%3Cdiv%20id%3D%22html_5286bdcaffb140b8abbed8f6071af62a%22%20style%3D%22width%3A%20100.0%25%3B%20height%3A%20100.0%25%3B%22%3EBohemian%20Forest%2C%20Prasilske%3C/div%3E%60%29%5B0%5D%3B%0A%20%20%20%20%20%20%20%20%20%20%20%20popup_1628e6f69db04ecc98b588c9a53ff25d.setContent%28html_5286bdcaffb140b8abbed8f6071af62a%29%3B%0A%20%20%20%20%20%20%20%20%0A%0A%20%20%20%20%20%20%20%20marker_1b7ae1e3c00244818aa5d63e55508a96.bindPopup%28popup_1628e6f69db04ecc98b588c9a53ff25d%29%0A%20%20%20%20%20%20%20%20%3B%0A%0A%20%20%20%20%20%20%20%20%0A%20%20%20%20%0A%20%20%20%20%0A%20%20%20%20%20%20%20%20%20%20%20%20var%20marker_f5da57ea86164667804d1d51d60a4151%20%3D%20L.marker%28%0A%20%20%20%20%20%20%20%20%20%20%20%20%20%20%20%20%5B49.111781%2C%2013.329335%5D%2C%0A%20%20%20%20%20%20%20%20%20%20%20%20%20%20%20%20%7B%7D%0A%20%20%20%20%20%20%20%20%20%20%20%20%29.addTo%28marker_cluster_792eec222c2641cb904a0a361620787a%29%3B%0A%20%20%20%20%20%20%20%20%0A%20%20%20%20%0A%20%20%20%20%20%20%20%20var%20popup_d5ed056e476a468e83bd5d9444a5ef6c%20%3D%20L.popup%28%7B%22maxWidth%22%3A%20%22100%25%22%7D%29%3B%0A%0A%20%20%20%20%20%20%20%20%0A%20%20%20%20%20%20%20%20%20%20%20%20var%20html_7f7d07bce8c2402d9d167042f056abfc%20%3D%20%24%28%60%3Cdiv%20id%3D%22html_7f7d07bce8c2402d9d167042f056abfc%22%20style%3D%22width%3A%20100.0%25%3B%20height%3A%20100.0%25%3B%22%3EBohemian%20Forest%2C%20Laka%3C/div%3E%60%29%5B0%5D%3B%0A%20%20%20%20%20%20%20%20%20%20%20%20popup_d5ed056e476a468e83bd5d9444a5ef6c.setContent%28html_7f7d07bce8c2402d9d167042f056abfc%29%3B%0A%20%20%20%20%20%20%20%20%0A%0A%20%20%20%20%20%20%20%20marker_f5da57ea86164667804d1d51d60a4151.bindPopup%28popup_d5ed056e476a468e83bd5d9444a5ef6c%29%0A%20%20%20%20%20%20%20%20%3B%0A%0A%20%20%20%20%20%20%20%20%0A%20%20%20%20%0A%20%20%20%20%0A%20%20%20%20%20%20%20%20%20%20%20%20var%20marker_a1d4f13f24744041bef0a6b0acaf7127%20%3D%20L.marker%28%0A%20%20%20%20%20%20%20%20%20%20%20%20%20%20%20%20%5B48.934839%2C%2013.653312%5D%2C%0A%20%20%20%20%20%20%20%20%20%20%20%20%20%20%20%20%7B%7D%0A%20%20%20%20%20%20%20%20%20%20%20%20%29.addTo%28marker_cluster_792eec222c2641cb904a0a361620787a%29%3B%0A%20%20%20%20%20%20%20%20%0A%20%20%20%20%0A%20%20%20%20%20%20%20%20var%20popup_fa538a7b214e4b01bbf7fc3e4c9591a3%20%3D%20L.popup%28%7B%22maxWidth%22%3A%20%22100%25%22%7D%29%3B%0A%0A%20%20%20%20%20%20%20%20%0A%20%20%20%20%20%20%20%20%20%20%20%20var%20html_4899a884105b4e9aa8e3311e0bf0a40a%20%3D%20%24%28%60%3Cdiv%20id%3D%22html_4899a884105b4e9aa8e3311e0bf0a40a%22%20style%3D%22width%3A%20100.0%25%3B%20height%3A%20100.0%25%3B%22%3EBohemian%20Forest%2C%20Zdarske%3C/div%3E%60%29%5B0%5D%3B%0A%20%20%20%20%20%20%20%20%20%20%20%20popup_fa538a7b214e4b01bbf7fc3e4c9591a3.setContent%28html_4899a884105b4e9aa8e3311e0bf0a40a%29%3B%0A%20%20%20%20%20%20%20%20%0A%0A%20%20%20%20%20%20%20%20marker_a1d4f13f24744041bef0a6b0acaf7127.bindPopup%28popup_fa538a7b214e4b01bbf7fc3e4c9591a3%29%0A%20%20%20%20%20%20%20%20%3B%0A%0A%20%20%20%20%20%20%20%20%0A%20%20%20%20%0A%20%20%20%20%0A%20%20%20%20%20%20%20%20%20%20%20%20var%20marker_d8f34d1b55104eca9aa53f26bed18c7f%20%3D%20L.marker%28%0A%20%20%20%20%20%20%20%20%20%20%20%20%20%20%20%20%5B50.034417%2C%2012.669428%5D%2C%0A%20%20%20%20%20%20%20%20%20%20%20%20%20%20%20%20%7B%7D%0A%20%20%20%20%20%20%20%20%20%20%20%20%29.addTo%28marker_cluster_792eec222c2641cb904a0a361620787a%29%3B%0A%20%20%20%20%20%20%20%20%0A%20%20%20%20%0A%20%20%20%20%20%20%20%20var%20popup_cab31b0ea71f427395974fe59b2e6db4%20%3D%20L.popup%28%7B%22maxWidth%22%3A%20%22100%25%22%7D%29%3B%0A%0A%20%20%20%20%20%20%20%20%0A%20%20%20%20%20%20%20%20%20%20%20%20var%20html_3406f185818e487186d8f2c69e207187%20%3D%20%24%28%60%3Cdiv%20id%3D%22html_3406f185818e487186d8f2c69e207187%22%20style%3D%22width%3A%20100.0%25%3B%20height%3A%20100.0%25%3B%22%3ELysina%3C/div%3E%60%29%5B0%5D%3B%0A%20%20%20%20%20%20%20%20%20%20%20%20popup_cab31b0ea71f427395974fe59b2e6db4.setContent%28html_3406f185818e487186d8f2c69e207187%29%3B%0A%20%20%20%20%20%20%20%20%0A%0A%20%20%20%20%20%20%20%20marker_d8f34d1b55104eca9aa53f26bed18c7f.bindPopup%28popup_cab31b0ea71f427395974fe59b2e6db4%29%0A%20%20%20%20%20%20%20%20%3B%0A%0A%20%20%20%20%20%20%20%20%0A%20%20%20%20%0A%20%20%20%20%0A%20%20%20%20%20%20%20%20%20%20%20%20var%20marker_d2147bb0bc8a4271b32ee75a5194416b%20%3D%20L.marker%28%0A%20%20%20%20%20%20%20%20%20%20%20%20%20%20%20%20%5B50.8167%2C%2015.1333%5D%2C%0A%20%20%20%20%20%20%20%20%20%20%20%20%20%20%20%20%7B%7D%0A%20%20%20%20%20%20%20%20%20%20%20%20%29.addTo%28marker_cluster_792eec222c2641cb904a0a361620787a%29%3B%0A%20%20%20%20%20%20%20%20%0A%20%20%20%20%0A%20%20%20%20%20%20%20%20var%20popup_7be84518711c4dfbbbd8d1f1ca122b0a%20%3D%20L.popup%28%7B%22maxWidth%22%3A%20%22100%25%22%7D%29%3B%0A%0A%20%20%20%20%20%20%20%20%0A%20%20%20%20%20%20%20%20%20%20%20%20var%20html_93cde3b294f740d38308da7262a847c0%20%3D%20%24%28%60%3Cdiv%20id%3D%22html_93cde3b294f740d38308da7262a847c0%22%20style%3D%22width%3A%20100.0%25%3B%20height%3A%20100.0%25%3B%22%3EUhlirska%3C/div%3E%60%29%5B0%5D%3B%0A%20%20%20%20%20%20%20%20%20%20%20%20popup_7be84518711c4dfbbbd8d1f1ca122b0a.setContent%28html_93cde3b294f740d38308da7262a847c0%29%3B%0A%20%20%20%20%20%20%20%20%0A%0A%20%20%20%20%20%20%20%20marker_d2147bb0bc8a4271b32ee75a5194416b.bindPopup%28popup_7be84518711c4dfbbbd8d1f1ca122b0a%29%0A%20%20%20%20%20%20%20%20%3B%0A%0A%20%20%20%20%20%20%20%20%0A%20%20%20%20%0A%20%20%20%20%0A%20%20%20%20%20%20%20%20%20%20%20%20var%20marker_2700412daaab45b8a832b4fbb54b2113%20%3D%20L.marker%28%0A%20%20%20%20%20%20%20%20%20%20%20%20%20%20%20%20%5B60.7054%2C%2027.9181%5D%2C%0A%20%20%20%20%20%20%20%20%20%20%20%20%20%20%20%20%7B%7D%0A%20%20%20%20%20%20%20%20%20%20%20%20%29.addTo%28marker_cluster_792eec222c2641cb904a0a361620787a%29%3B%0A%20%20%20%20%20%20%20%20%0A%20%20%20%20%0A%20%20%20%20%20%20%20%20var%20popup_07112304d61948a3b21c5ba72595f337%20%3D%20L.popup%28%7B%22maxWidth%22%3A%20%22100%25%22%7D%29%3B%0A%0A%20%20%20%20%20%20%20%20%0A%20%20%20%20%20%20%20%20%20%20%20%20var%20html_649d90d95f8548399392e2c6ffa7bb79%20%3D%20%24%28%60%3Cdiv%20id%3D%22html_649d90d95f8548399392e2c6ffa7bb79%22%20style%3D%22width%3A%20100.0%25%3B%20height%3A%20100.0%25%3B%22%3EHirvilampi%3C/div%3E%60%29%5B0%5D%3B%0A%20%20%20%20%20%20%20%20%20%20%20%20popup_07112304d61948a3b21c5ba72595f337.setContent%28html_649d90d95f8548399392e2c6ffa7bb79%29%3B%0A%20%20%20%20%20%20%20%20%0A%0A%20%20%20%20%20%20%20%20marker_2700412daaab45b8a832b4fbb54b2113.bindPopup%28popup_07112304d61948a3b21c5ba72595f337%29%0A%20%20%20%20%20%20%20%20%3B%0A%0A%20%20%20%20%20%20%20%20%0A%20%20%20%20%0A%20%20%20%20%0A%20%20%20%20%20%20%20%20%20%20%20%20var%20marker_2af34893b4934b79bf1061085c4cc014%20%3D%20L.marker%28%0A%20%20%20%20%20%20%20%20%20%20%20%20%20%20%20%20%5B67.0655%2C%2026.0946%5D%2C%0A%20%20%20%20%20%20%20%20%20%20%20%20%20%20%20%20%7B%7D%0A%20%20%20%20%20%20%20%20%20%20%20%20%29.addTo%28marker_cluster_792eec222c2641cb904a0a361620787a%29%3B%0A%20%20%20%20%20%20%20%20%0A%20%20%20%20%0A%20%20%20%20%20%20%20%20var%20popup_8a97cf56132b4b8380dd4239cccc7a54%20%3D%20L.popup%28%7B%22maxWidth%22%3A%20%22100%25%22%7D%29%3B%0A%0A%20%20%20%20%20%20%20%20%0A%20%20%20%20%20%20%20%20%20%20%20%20var%20html_ab13c34a38e1430391c460784d6fdd8a%20%3D%20%24%28%60%3Cdiv%20id%3D%22html_ab13c34a38e1430391c460784d6fdd8a%22%20style%3D%22width%3A%20100.0%25%3B%20height%3A%20100.0%25%3B%22%3ESuopalampi%3C/div%3E%60%29%5B0%5D%3B%0A%20%20%20%20%20%20%20%20%20%20%20%20popup_8a97cf56132b4b8380dd4239cccc7a54.setContent%28html_ab13c34a38e1430391c460784d6fdd8a%29%3B%0A%20%20%20%20%20%20%20%20%0A%0A%20%20%20%20%20%20%20%20marker_2af34893b4934b79bf1061085c4cc014.bindPopup%28popup_8a97cf56132b4b8380dd4239cccc7a54%29%0A%20%20%20%20%20%20%20%20%3B%0A%0A%20%20%20%20%20%20%20%20%0A%20%20%20%20%0A%20%20%20%20%0A%20%20%20%20%20%20%20%20%20%20%20%20var%20marker_2264d5ee25954f138287de9054536200%20%3D%20L.marker%28%0A%20%20%20%20%20%20%20%20%20%20%20%20%20%20%20%20%5B67.117%2C%2026.0844%5D%2C%0A%20%20%20%20%20%20%20%20%20%20%20%20%20%20%20%20%7B%7D%0A%20%20%20%20%20%20%20%20%20%20%20%20%29.addTo%28marker_cluster_792eec222c2641cb904a0a361620787a%29%3B%0A%20%20%20%20%20%20%20%20%0A%20%20%20%20%0A%20%20%20%20%20%20%20%20var%20popup_d57c3430763b4ebd9efa38e2c153d4a1%20%3D%20L.popup%28%7B%22maxWidth%22%3A%20%22100%25%22%7D%29%3B%0A%0A%20%20%20%20%20%20%20%20%0A%20%20%20%20%20%20%20%20%20%20%20%20var%20html_d0bbb4d2e01e478a95bcb8ee6c3b6b77%20%3D%20%24%28%60%3Cdiv%20id%3D%22html_d0bbb4d2e01e478a95bcb8ee6c3b6b77%22%20style%3D%22width%3A%20100.0%25%3B%20height%3A%20100.0%25%3B%22%3EVasikkaj%C3%A4rvi%3C/div%3E%60%29%5B0%5D%3B%0A%20%20%20%20%20%20%20%20%20%20%20%20popup_d57c3430763b4ebd9efa38e2c153d4a1.setContent%28html_d0bbb4d2e01e478a95bcb8ee6c3b6b77%29%3B%0A%20%20%20%20%20%20%20%20%0A%0A%20%20%20%20%20%20%20%20marker_2264d5ee25954f138287de9054536200.bindPopup%28popup_d57c3430763b4ebd9efa38e2c153d4a1%29%0A%20%20%20%20%20%20%20%20%3B%0A%0A%20%20%20%20%20%20%20%20%0A%20%20%20%20%0A%20%20%20%20%0A%20%20%20%20%20%20%20%20%20%20%20%20var%20marker_feb0f02b22db4be0b04551793a5a1ea4%20%3D%20L.marker%28%0A%20%20%20%20%20%20%20%20%20%20%20%20%20%20%20%20%5B59.9634%2C%2023.3158%5D%2C%0A%20%20%20%20%20%20%20%20%20%20%20%20%20%20%20%20%7B%7D%0A%20%20%20%20%20%20%20%20%20%20%20%20%29.addTo%28marker_cluster_792eec222c2641cb904a0a361620787a%29%3B%0A%20%20%20%20%20%20%20%20%0A%20%20%20%20%0A%20%20%20%20%20%20%20%20var%20popup_874242350cc4498ab0f730db07d4c261%20%3D%20L.popup%28%7B%22maxWidth%22%3A%20%22100%25%22%7D%29%3B%0A%0A%20%20%20%20%20%20%20%20%0A%20%20%20%20%20%20%20%20%20%20%20%20var%20html_7637e04371b64aa48d4a2a2372b95e3d%20%3D%20%24%28%60%3Cdiv%20id%3D%22html_7637e04371b64aa48d4a2a2372b95e3d%22%20style%3D%22width%3A%20100.0%25%3B%20height%3A%20100.0%25%3B%22%3EVitsj%C3%B6n%3C/div%3E%60%29%5B0%5D%3B%0A%20%20%20%20%20%20%20%20%20%20%20%20popup_874242350cc4498ab0f730db07d4c261.setContent%28html_7637e04371b64aa48d4a2a2372b95e3d%29%3B%0A%20%20%20%20%20%20%20%20%0A%0A%20%20%20%20%20%20%20%20marker_feb0f02b22db4be0b04551793a5a1ea4.bindPopup%28popup_874242350cc4498ab0f730db07d4c261%29%0A%20%20%20%20%20%20%20%20%3B%0A%0A%20%20%20%20%20%20%20%20%0A%20%20%20%20%0A%20%20%20%20%0A%20%20%20%20%20%20%20%20%20%20%20%20var%20marker_d1fb66f8be214a7e96fea52b04ea7dec%20%3D%20L.marker%28%0A%20%20%20%20%20%20%20%20%20%20%20%20%20%20%20%20%5B63.6565%2C%2029.9466%5D%2C%0A%20%20%20%20%20%20%20%20%20%20%20%20%20%20%20%20%7B%7D%0A%20%20%20%20%20%20%20%20%20%20%20%20%29.addTo%28marker_cluster_792eec222c2641cb904a0a361620787a%29%3B%0A%20%20%20%20%20%20%20%20%0A%20%20%20%20%0A%20%20%20%20%20%20%20%20var%20popup_973ce12245d34d4b834509f31596c6a6%20%3D%20L.popup%28%7B%22maxWidth%22%3A%20%22100%25%22%7D%29%3B%0A%0A%20%20%20%20%20%20%20%20%0A%20%20%20%20%20%20%20%20%20%20%20%20var%20html_92ad9256aff74ae19a33fd9cd5811311%20%3D%20%24%28%60%3Cdiv%20id%3D%22html_92ad9256aff74ae19a33fd9cd5811311%22%20style%3D%22width%3A%20100.0%25%3B%20height%3A%20100.0%25%3B%22%3EKakkisenlampi%3C/div%3E%60%29%5B0%5D%3B%0A%20%20%20%20%20%20%20%20%20%20%20%20popup_973ce12245d34d4b834509f31596c6a6.setContent%28html_92ad9256aff74ae19a33fd9cd5811311%29%3B%0A%20%20%20%20%20%20%20%20%0A%0A%20%20%20%20%20%20%20%20marker_d1fb66f8be214a7e96fea52b04ea7dec.bindPopup%28popup_973ce12245d34d4b834509f31596c6a6%29%0A%20%20%20%20%20%20%20%20%3B%0A%0A%20%20%20%20%20%20%20%20%0A%20%20%20%20%0A%20%20%20%20%0A%20%20%20%20%20%20%20%20%20%20%20%20var%20marker_a6d87f8498ca452c953cf215f5783dfc%20%3D%20L.marker%28%0A%20%20%20%20%20%20%20%20%20%20%20%20%20%20%20%20%5B61.2944%2C%2026.4147%5D%2C%0A%20%20%20%20%20%20%20%20%20%20%20%20%20%20%20%20%7B%7D%0A%20%20%20%20%20%20%20%20%20%20%20%20%29.addTo%28marker_cluster_792eec222c2641cb904a0a361620787a%29%3B%0A%20%20%20%20%20%20%20%20%0A%20%20%20%20%0A%20%20%20%20%20%20%20%20var%20popup_50aadf1a0d8e4e239b4fcb00c04ad1d9%20%3D%20L.popup%28%7B%22maxWidth%22%3A%20%22100%25%22%7D%29%3B%0A%0A%20%20%20%20%20%20%20%20%0A%20%20%20%20%20%20%20%20%20%20%20%20var%20html_531daf0e198e4d78ac947e2f556aaf7c%20%3D%20%24%28%60%3Cdiv%20id%3D%22html_531daf0e198e4d78ac947e2f556aaf7c%22%20style%3D%22width%3A%20100.0%25%3B%20height%3A%20100.0%25%3B%22%3ESonnanen%3C/div%3E%60%29%5B0%5D%3B%0A%20%20%20%20%20%20%20%20%20%20%20%20popup_50aadf1a0d8e4e239b4fcb00c04ad1d9.setContent%28html_531daf0e198e4d78ac947e2f556aaf7c%29%3B%0A%20%20%20%20%20%20%20%20%0A%0A%20%20%20%20%20%20%20%20marker_a6d87f8498ca452c953cf215f5783dfc.bindPopup%28popup_50aadf1a0d8e4e239b4fcb00c04ad1d9%29%0A%20%20%20%20%20%20%20%20%3B%0A%0A%20%20%20%20%20%20%20%20%0A%20%20%20%20%0A%20%20%20%20%0A%20%20%20%20%20%20%20%20%20%20%20%20var%20marker_f0281b38bee14087bd834383a8394d3f%20%3D%20L.marker%28%0A%20%20%20%20%20%20%20%20%20%20%20%20%20%20%20%20%5B60.37246%2C%209.72666%5D%2C%0A%20%20%20%20%20%20%20%20%20%20%20%20%20%20%20%20%7B%7D%0A%20%20%20%20%20%20%20%20%20%20%20%20%29.addTo%28marker_cluster_792eec222c2641cb904a0a361620787a%29%3B%0A%20%20%20%20%20%20%20%20%0A%20%20%20%20%0A%20%20%20%20%20%20%20%20var%20popup_ca2a40727d4e43dcafcd04ff4c1a2606%20%3D%20L.popup%28%7B%22maxWidth%22%3A%20%22100%25%22%7D%29%3B%0A%0A%20%20%20%20%20%20%20%20%0A%20%20%20%20%20%20%20%20%20%20%20%20var%20html_4e2872a4dffe447887380a348d8b6c17%20%3D%20%24%28%60%3Cdiv%20id%3D%22html_4e2872a4dffe447887380a348d8b6c17%22%20style%3D%22width%3A%20100.0%25%3B%20height%3A%20100.0%25%3B%22%3ELangtjern%2C%20utl%C3%B8p%3C/div%3E%60%29%5B0%5D%3B%0A%20%20%20%20%20%20%20%20%20%20%20%20popup_ca2a40727d4e43dcafcd04ff4c1a2606.setContent%28html_4e2872a4dffe447887380a348d8b6c17%29%3B%0A%20%20%20%20%20%20%20%20%0A%0A%20%20%20%20%20%20%20%20marker_f0281b38bee14087bd834383a8394d3f.bindPopup%28popup_ca2a40727d4e43dcafcd04ff4c1a2606%29%0A%20%20%20%20%20%20%20%20%3B%0A%0A%20%20%20%20%20%20%20%20%0A%20%20%20%20%0A%20%20%20%20%0A%20%20%20%20%20%20%20%20%20%20%20%20var%20marker_0df8aca085dd454097d3d46d4d82c4f5%20%3D%20L.marker%28%0A%20%20%20%20%20%20%20%20%20%20%20%20%20%20%20%20%5B58.385426%2C%208.241721%5D%2C%0A%20%20%20%20%20%20%20%20%20%20%20%20%20%20%20%20%7B%7D%0A%20%20%20%20%20%20%20%20%20%20%20%20%29.addTo%28marker_cluster_792eec222c2641cb904a0a361620787a%29%3B%0A%20%20%20%20%20%20%20%20%0A%20%20%20%20%0A%20%20%20%20%20%20%20%20var%20popup_67f1a73fe0d6435aa9637de9ef792e6d%20%3D%20L.popup%28%7B%22maxWidth%22%3A%20%22100%25%22%7D%29%3B%0A%0A%20%20%20%20%20%20%20%20%0A%20%20%20%20%20%20%20%20%20%20%20%20var%20html_7b37802161a644b5be62c1bdb6c475a4%20%3D%20%24%28%60%3Cdiv%20id%3D%22html_7b37802161a644b5be62c1bdb6c475a4%22%20style%3D%22width%3A%20100.0%25%3B%20height%3A%20100.0%25%3B%22%3EBirkenes%3C/div%3E%60%29%5B0%5D%3B%0A%20%20%20%20%20%20%20%20%20%20%20%20popup_67f1a73fe0d6435aa9637de9ef792e6d.setContent%28html_7b37802161a644b5be62c1bdb6c475a4%29%3B%0A%20%20%20%20%20%20%20%20%0A%0A%20%20%20%20%20%20%20%20marker_0df8aca085dd454097d3d46d4d82c4f5.bindPopup%28popup_67f1a73fe0d6435aa9637de9ef792e6d%29%0A%20%20%20%20%20%20%20%20%3B%0A%0A%20%20%20%20%20%20%20%20%0A%20%20%20%20%0A%20%20%20%20%0A%20%20%20%20%20%20%20%20%20%20%20%20var%20marker_6b82f67fe329427c91d767ca177f415a%20%3D%20L.marker%28%0A%20%20%20%20%20%20%20%20%20%20%20%20%20%20%20%20%5B59.052333%2C%208.653606%5D%2C%0A%20%20%20%20%20%20%20%20%20%20%20%20%20%20%20%20%7B%7D%0A%20%20%20%20%20%20%20%20%20%20%20%20%29.addTo%28marker_cluster_792eec222c2641cb904a0a361620787a%29%3B%0A%20%20%20%20%20%20%20%20%0A%20%20%20%20%0A%20%20%20%20%20%20%20%20var%20popup_38fbcb54a43a41a2b4c591a14f476395%20%3D%20L.popup%28%7B%22maxWidth%22%3A%20%22100%25%22%7D%29%3B%0A%0A%20%20%20%20%20%20%20%20%0A%20%20%20%20%20%20%20%20%20%20%20%20var%20html_4f6e1265a0544808a1762646cfc0ddc5%20%3D%20%24%28%60%3Cdiv%20id%3D%22html_4f6e1265a0544808a1762646cfc0ddc5%22%20style%3D%22width%3A%20100.0%25%3B%20height%3A%20100.0%25%3B%22%3EStorgama%20v.%20dam%3C/div%3E%60%29%5B0%5D%3B%0A%20%20%20%20%20%20%20%20%20%20%20%20popup_38fbcb54a43a41a2b4c591a14f476395.setContent%28html_4f6e1265a0544808a1762646cfc0ddc5%29%3B%0A%20%20%20%20%20%20%20%20%0A%0A%20%20%20%20%20%20%20%20marker_6b82f67fe329427c91d767ca177f415a.bindPopup%28popup_38fbcb54a43a41a2b4c591a14f476395%29%0A%20%20%20%20%20%20%20%20%3B%0A%0A%20%20%20%20%20%20%20%20%0A%20%20%20%20%0A%20%20%20%20%0A%20%20%20%20%20%20%20%20%20%20%20%20var%20marker_55ce1e943a134ba0ad126b26f9abb5e7%20%3D%20L.marker%28%0A%20%20%20%20%20%20%20%20%20%20%20%20%20%20%20%20%5B62.782883%2C%208.893443%5D%2C%0A%20%20%20%20%20%20%20%20%20%20%20%20%20%20%20%20%7B%7D%0A%20%20%20%20%20%20%20%20%20%20%20%20%29.addTo%28marker_cluster_792eec222c2641cb904a0a361620787a%29%3B%0A%20%20%20%20%20%20%20%20%0A%20%20%20%20%0A%20%20%20%20%20%20%20%20var%20popup_3e734fe8f34440e0a6afd6dca6fc383d%20%3D%20L.popup%28%7B%22maxWidth%22%3A%20%22100%25%22%7D%29%3B%0A%0A%20%20%20%20%20%20%20%20%0A%20%20%20%20%20%20%20%20%20%20%20%20var%20html_4702dc6199eb4da79656d4860690a2af%20%3D%20%24%28%60%3Cdiv%20id%3D%22html_4702dc6199eb4da79656d4860690a2af%22%20style%3D%22width%3A%20100.0%25%3B%20height%3A%20100.0%25%3B%22%3EK%C3%A5rvatn%20feltforskningsstasjon%3C/div%3E%60%29%5B0%5D%3B%0A%20%20%20%20%20%20%20%20%20%20%20%20popup_3e734fe8f34440e0a6afd6dca6fc383d.setContent%28html_4702dc6199eb4da79656d4860690a2af%29%3B%0A%20%20%20%20%20%20%20%20%0A%0A%20%20%20%20%20%20%20%20marker_55ce1e943a134ba0ad126b26f9abb5e7.bindPopup%28popup_3e734fe8f34440e0a6afd6dca6fc383d%29%0A%20%20%20%20%20%20%20%20%3B%0A%0A%20%20%20%20%20%20%20%20%0A%20%20%20%20%0A%20%20%20%20%0A%20%20%20%20%20%20%20%20%20%20%20%20var%20marker_43ef60e15e2948abb94e4a7fccd1fcb0%20%3D%20L.marker%28%0A%20%20%20%20%20%20%20%20%20%20%20%20%20%20%20%20%5B69.684738%2C%2030.386154%5D%2C%0A%20%20%20%20%20%20%20%20%20%20%20%20%20%20%20%20%7B%7D%0A%20%20%20%20%20%20%20%20%20%20%20%20%29.addTo%28marker_cluster_792eec222c2641cb904a0a361620787a%29%3B%0A%20%20%20%20%20%20%20%20%0A%20%20%20%20%0A%20%20%20%20%20%20%20%20var%20popup_6a1a047146034772b8cb08d0c745e0aa%20%3D%20L.popup%28%7B%22maxWidth%22%3A%20%22100%25%22%7D%29%3B%0A%0A%20%20%20%20%20%20%20%20%0A%20%20%20%20%20%20%20%20%20%20%20%20var%20html_9be2178e0525423ca7e1eb8121cccccb%20%3D%20%24%28%60%3Cdiv%20id%3D%22html_9be2178e0525423ca7e1eb8121cccccb%22%20style%3D%22width%3A%20100.0%25%3B%20height%3A%20100.0%25%3B%22%3EDalelv%3C/div%3E%60%29%5B0%5D%3B%0A%20%20%20%20%20%20%20%20%20%20%20%20popup_6a1a047146034772b8cb08d0c745e0aa.setContent%28html_9be2178e0525423ca7e1eb8121cccccb%29%3B%0A%20%20%20%20%20%20%20%20%0A%0A%20%20%20%20%20%20%20%20marker_43ef60e15e2948abb94e4a7fccd1fcb0.bindPopup%28popup_6a1a047146034772b8cb08d0c745e0aa%29%0A%20%20%20%20%20%20%20%20%3B%0A%0A%20%20%20%20%20%20%20%20%0A%20%20%20%20%0A%20%20%20%20%0A%20%20%20%20%20%20%20%20%20%20%20%20var%20marker_904a6bef3b584e78a6749e306f3900e3%20%3D%20L.marker%28%0A%20%20%20%20%20%20%20%20%20%20%20%20%20%20%20%20%5B49.229305%2C%2019.997741%5D%2C%0A%20%20%20%20%20%20%20%20%20%20%20%20%20%20%20%20%7B%7D%0A%20%20%20%20%20%20%20%20%20%20%20%20%29.addTo%28marker_cluster_792eec222c2641cb904a0a361620787a%29%3B%0A%20%20%20%20%20%20%20%20%0A%20%20%20%20%0A%20%20%20%20%20%20%20%20var%20popup_6bc6f28500e9496a9fb4acbbe138e9cf%20%3D%20L.popup%28%7B%22maxWidth%22%3A%20%22100%25%22%7D%29%3B%0A%0A%20%20%20%20%20%20%20%20%0A%20%20%20%20%20%20%20%20%20%20%20%20var%20html_19fee9cc873646648e92cf2a6167fe3c%20%3D%20%24%28%60%3Cdiv%20id%3D%22html_19fee9cc873646648e92cf2a6167fe3c%22%20style%3D%22width%3A%20100.0%25%3B%20height%3A%20100.0%25%3B%22%3EZielony%20Staw%20Gasienicowy%3C/div%3E%60%29%5B0%5D%3B%0A%20%20%20%20%20%20%20%20%20%20%20%20popup_6bc6f28500e9496a9fb4acbbe138e9cf.setContent%28html_19fee9cc873646648e92cf2a6167fe3c%29%3B%0A%20%20%20%20%20%20%20%20%0A%0A%20%20%20%20%20%20%20%20marker_904a6bef3b584e78a6749e306f3900e3.bindPopup%28popup_6bc6f28500e9496a9fb4acbbe138e9cf%29%0A%20%20%20%20%20%20%20%20%3B%0A%0A%20%20%20%20%20%20%20%20%0A%20%20%20%20%0A%20%20%20%20%0A%20%20%20%20%20%20%20%20%20%20%20%20var%20marker_3431c668d27844b38a497d673a00bddc%20%3D%20L.marker%28%0A%20%20%20%20%20%20%20%20%20%20%20%20%20%20%20%20%5B58.148152%2C%2012.181194%5D%2C%0A%20%20%20%20%20%20%20%20%20%20%20%20%20%20%20%20%7B%7D%0A%20%20%20%20%20%20%20%20%20%20%20%20%29.addTo%28marker_cluster_792eec222c2641cb904a0a361620787a%29%3B%0A%20%20%20%20%20%20%20%20%0A%20%20%20%20%0A%20%20%20%20%20%20%20%20var%20popup_21282c3cf36f4d1fad479948dcd553fc%20%3D%20L.popup%28%7B%22maxWidth%22%3A%20%22100%25%22%7D%29%3B%0A%0A%20%20%20%20%20%20%20%20%0A%20%20%20%20%20%20%20%20%20%20%20%20var%20html_8db325fc55fa43bbb57c8fbbaf0f5375%20%3D%20%24%28%60%3Cdiv%20id%3D%22html_8db325fc55fa43bbb57c8fbbaf0f5375%22%20style%3D%22width%3A%20100.0%25%3B%20height%3A%20100.0%25%3B%22%3EFr%C3%A4cksj%C3%B6n%3C/div%3E%60%29%5B0%5D%3B%0A%20%20%20%20%20%20%20%20%20%20%20%20popup_21282c3cf36f4d1fad479948dcd553fc.setContent%28html_8db325fc55fa43bbb57c8fbbaf0f5375%29%3B%0A%20%20%20%20%20%20%20%20%0A%0A%20%20%20%20%20%20%20%20marker_3431c668d27844b38a497d673a00bddc.bindPopup%28popup_21282c3cf36f4d1fad479948dcd553fc%29%0A%20%20%20%20%20%20%20%20%3B%0A%0A%20%20%20%20%20%20%20%20%0A%20%20%20%20%0A%20%20%20%20%0A%20%20%20%20%20%20%20%20%20%20%20%20var%20marker_85f6a6b73f3a4b14ae335a9adf61b9c4%20%3D%20L.marker%28%0A%20%20%20%20%20%20%20%20%20%20%20%20%20%20%20%20%5B58.0202%2C%2012.030389%5D%2C%0A%20%20%20%20%20%20%20%20%20%20%20%20%20%20%20%20%7B%7D%0A%20%20%20%20%20%20%20%20%20%20%20%20%29.addTo%28marker_cluster_792eec222c2641cb904a0a361620787a%29%3B%0A%20%20%20%20%20%20%20%20%0A%20%20%20%20%0A%20%20%20%20%20%20%20%20var%20popup_e334635ffca244288852d4b7a7682df4%20%3D%20L.popup%28%7B%22maxWidth%22%3A%20%22100%25%22%7D%29%3B%0A%0A%20%20%20%20%20%20%20%20%0A%20%20%20%20%20%20%20%20%20%20%20%20var%20html_01eacefe331b4471a12aadb164090c38%20%3D%20%24%28%60%3Cdiv%20id%3D%22html_01eacefe331b4471a12aadb164090c38%22%20style%3D%22width%3A%20100.0%25%3B%20height%3A%20100.0%25%3B%22%3EH%C3%A4rsvatten%3C/div%3E%60%29%5B0%5D%3B%0A%20%20%20%20%20%20%20%20%20%20%20%20popup_e334635ffca244288852d4b7a7682df4.setContent%28html_01eacefe331b4471a12aadb164090c38%29%3B%0A%20%20%20%20%20%20%20%20%0A%0A%20%20%20%20%20%20%20%20marker_85f6a6b73f3a4b14ae335a9adf61b9c4.bindPopup%28popup_e334635ffca244288852d4b7a7682df4%29%0A%20%20%20%20%20%20%20%20%3B%0A%0A%20%20%20%20%20%20%20%20%0A%20%20%20%20%0A%20%20%20%20%0A%20%20%20%20%20%20%20%20%20%20%20%20var%20marker_9d0390c12d0645b8800a6aaea91b8305%20%3D%20L.marker%28%0A%20%20%20%20%20%20%20%20%20%20%20%20%20%20%20%20%5B61.642759%2C%2016.575307%5D%2C%0A%20%20%20%20%20%20%20%20%20%20%20%20%20%20%20%20%7B%7D%0A%20%20%20%20%20%20%20%20%20%20%20%20%29.addTo%28marker_cluster_792eec222c2641cb904a0a361620787a%29%3B%0A%20%20%20%20%20%20%20%20%0A%20%20%20%20%0A%20%20%20%20%20%20%20%20var%20popup_29f7e7fc0ef54e66aa09f57f169fe32f%20%3D%20L.popup%28%7B%22maxWidth%22%3A%20%22100%25%22%7D%29%3B%0A%0A%20%20%20%20%20%20%20%20%0A%20%20%20%20%20%20%20%20%20%20%20%20var%20html_567f839fd23a4b2da9e0d3bc047c4721%20%3D%20%24%28%60%3Cdiv%20id%3D%22html_567f839fd23a4b2da9e0d3bc047c4721%22%20style%3D%22width%3A%20100.0%25%3B%20height%3A%20100.0%25%3B%22%3EStensj%C3%B6n%3C/div%3E%60%29%5B0%5D%3B%0A%20%20%20%20%20%20%20%20%20%20%20%20popup_29f7e7fc0ef54e66aa09f57f169fe32f.setContent%28html_567f839fd23a4b2da9e0d3bc047c4721%29%3B%0A%20%20%20%20%20%20%20%20%0A%0A%20%20%20%20%20%20%20%20marker_9d0390c12d0645b8800a6aaea91b8305.bindPopup%28popup_29f7e7fc0ef54e66aa09f57f169fe32f%29%0A%20%20%20%20%20%20%20%20%3B%0A%0A%20%20%20%20%20%20%20%20%0A%20%20%20%20%0A%20%20%20%20%0A%20%20%20%20%20%20%20%20%20%20%20%20var%20marker_0c1486192bae44a88039ccf75babf93d%20%3D%20L.marker%28%0A%20%20%20%20%20%20%20%20%20%20%20%20%20%20%20%20%5B56.947836%2C%2015.271186%5D%2C%0A%20%20%20%20%20%20%20%20%20%20%20%20%20%20%20%20%7B%7D%0A%20%20%20%20%20%20%20%20%20%20%20%20%29.addTo%28marker_cluster_792eec222c2641cb904a0a361620787a%29%3B%0A%20%20%20%20%20%20%20%20%0A%20%20%20%20%0A%20%20%20%20%20%20%20%20var%20popup_1799f33db394408bb57eae87ed4e854f%20%3D%20L.popup%28%7B%22maxWidth%22%3A%20%22100%25%22%7D%29%3B%0A%0A%20%20%20%20%20%20%20%20%0A%20%20%20%20%20%20%20%20%20%20%20%20var%20html_a237cc4fc0854a849d804339c73ccd9a%20%3D%20%24%28%60%3Cdiv%20id%3D%22html_a237cc4fc0854a849d804339c73ccd9a%22%20style%3D%22width%3A%20100.0%25%3B%20height%3A%20100.0%25%3B%22%3EStorasj%C3%B6%3C/div%3E%60%29%5B0%5D%3B%0A%20%20%20%20%20%20%20%20%20%20%20%20popup_1799f33db394408bb57eae87ed4e854f.setContent%28html_a237cc4fc0854a849d804339c73ccd9a%29%3B%0A%20%20%20%20%20%20%20%20%0A%0A%20%20%20%20%20%20%20%20marker_0c1486192bae44a88039ccf75babf93d.bindPopup%28popup_1799f33db394408bb57eae87ed4e854f%29%0A%20%20%20%20%20%20%20%20%3B%0A%0A%20%20%20%20%20%20%20%20%0A%20%20%20%20%0A%20%20%20%20%0A%20%20%20%20%20%20%20%20%20%20%20%20var%20marker_92218a23cca5440c924226aee94758e8%20%3D%20L.marker%28%0A%20%20%20%20%20%20%20%20%20%20%20%20%20%20%20%20%5B62.24353%2C%2015.673274%5D%2C%0A%20%20%20%20%20%20%20%20%20%20%20%20%20%20%20%20%7B%7D%0A%20%20%20%20%20%20%20%20%20%20%20%20%29.addTo%28marker_cluster_792eec222c2641cb904a0a361620787a%29%3B%0A%20%20%20%20%20%20%20%20%0A%20%20%20%20%0A%20%20%20%20%20%20%20%20var%20popup_d6407cfa6e71469fb6eeee18eddb3345%20%3D%20L.popup%28%7B%22maxWidth%22%3A%20%22100%25%22%7D%29%3B%0A%0A%20%20%20%20%20%20%20%20%0A%20%20%20%20%20%20%20%20%20%20%20%20var%20html_833389c34d7a405a801f5cc348160d8e%20%3D%20%24%28%60%3Cdiv%20id%3D%22html_833389c34d7a405a801f5cc348160d8e%22%20style%3D%22width%3A%20100.0%25%3B%20height%3A%20100.0%25%3B%22%3ETv%C3%A4ringen%3C/div%3E%60%29%5B0%5D%3B%0A%20%20%20%20%20%20%20%20%20%20%20%20popup_d6407cfa6e71469fb6eeee18eddb3345.setContent%28html_833389c34d7a405a801f5cc348160d8e%29%3B%0A%20%20%20%20%20%20%20%20%0A%0A%20%20%20%20%20%20%20%20marker_92218a23cca5440c924226aee94758e8.bindPopup%28popup_d6407cfa6e71469fb6eeee18eddb3345%29%0A%20%20%20%20%20%20%20%20%3B%0A%0A%20%20%20%20%20%20%20%20%0A%20%20%20%20%0A%20%20%20%20%0A%20%20%20%20%20%20%20%20%20%20%20%20var%20marker_6ca2d15ac2d84b4a89f43b4d4e941f52%20%3D%20L.marker%28%0A%20%20%20%20%20%20%20%20%20%20%20%20%20%20%20%20%5B54.475667%2C%20-3.292167%5D%2C%0A%20%20%20%20%20%20%20%20%20%20%20%20%20%20%20%20%7B%7D%0A%20%20%20%20%20%20%20%20%20%20%20%20%29.addTo%28marker_cluster_792eec222c2641cb904a0a361620787a%29%3B%0A%20%20%20%20%20%20%20%20%0A%20%20%20%20%0A%20%20%20%20%20%20%20%20var%20popup_466d26b9bb0c4794836ddcbd10ee7393%20%3D%20L.popup%28%7B%22maxWidth%22%3A%20%22100%25%22%7D%29%3B%0A%0A%20%20%20%20%20%20%20%20%0A%20%20%20%20%20%20%20%20%20%20%20%20var%20html_e092bb5d6aa342b4b12aac82b2dddc93%20%3D%20%24%28%60%3Cdiv%20id%3D%22html_e092bb5d6aa342b4b12aac82b2dddc93%22%20style%3D%22width%3A%20100.0%25%3B%20height%3A%20100.0%25%3B%22%3EScoat%20Tarn%3C/div%3E%60%29%5B0%5D%3B%0A%20%20%20%20%20%20%20%20%20%20%20%20popup_466d26b9bb0c4794836ddcbd10ee7393.setContent%28html_e092bb5d6aa342b4b12aac82b2dddc93%29%3B%0A%20%20%20%20%20%20%20%20%0A%0A%20%20%20%20%20%20%20%20marker_6ca2d15ac2d84b4a89f43b4d4e941f52.bindPopup%28popup_466d26b9bb0c4794836ddcbd10ee7393%29%0A%20%20%20%20%20%20%20%20%3B%0A%0A%20%20%20%20%20%20%20%20%0A%20%20%20%20%0A%20%20%20%20%0A%20%20%20%20%20%20%20%20%20%20%20%20var%20marker_24d2bc38624e4f51be26b30dae1d248b%20%3D%20L.marker%28%0A%20%20%20%20%20%20%20%20%20%20%20%20%20%20%20%20%5B53.008833%2C%20-4.0085%5D%2C%0A%20%20%20%20%20%20%20%20%20%20%20%20%20%20%20%20%7B%7D%0A%20%20%20%20%20%20%20%20%20%20%20%20%29.addTo%28marker_cluster_792eec222c2641cb904a0a361620787a%29%3B%0A%20%20%20%20%20%20%20%20%0A%20%20%20%20%0A%20%20%20%20%20%20%20%20var%20popup_994629e4490841ca9d4a58fb62f53f24%20%3D%20L.popup%28%7B%22maxWidth%22%3A%20%22100%25%22%7D%29%3B%0A%0A%20%20%20%20%20%20%20%20%0A%20%20%20%20%20%20%20%20%20%20%20%20var%20html_40ebc1e846e54bd08fbb1d6301fce8c7%20%3D%20%24%28%60%3Cdiv%20id%3D%22html_40ebc1e846e54bd08fbb1d6301fce8c7%22%20style%3D%22width%3A%20100.0%25%3B%20height%3A%20100.0%25%3B%22%3ELlyn%20Llagi%3C/div%3E%60%29%5B0%5D%3B%0A%20%20%20%20%20%20%20%20%20%20%20%20popup_994629e4490841ca9d4a58fb62f53f24.setContent%28html_40ebc1e846e54bd08fbb1d6301fce8c7%29%3B%0A%20%20%20%20%20%20%20%20%0A%0A%20%20%20%20%20%20%20%20marker_24d2bc38624e4f51be26b30dae1d248b.bindPopup%28popup_994629e4490841ca9d4a58fb62f53f24%29%0A%20%20%20%20%20%20%20%20%3B%0A%0A%20%20%20%20%20%20%20%20%0A%20%20%20%20%0A%20%20%20%20%0A%20%20%20%20%20%20%20%20%20%20%20%20var%20marker_7785db95b677421696ab0de53d073ead%20%3D%20L.marker%28%0A%20%20%20%20%20%20%20%20%20%20%20%20%20%20%20%20%5B54.154167%2C%20-5.9675%5D%2C%0A%20%20%20%20%20%20%20%20%20%20%20%20%20%20%20%20%7B%7D%0A%20%20%20%20%20%20%20%20%20%20%20%20%29.addTo%28marker_cluster_792eec222c2641cb904a0a361620787a%29%3B%0A%20%20%20%20%20%20%20%20%0A%20%20%20%20%0A%20%20%20%20%20%20%20%20var%20popup_4bf94ec26d28412bba721e9dadb9d102%20%3D%20L.popup%28%7B%22maxWidth%22%3A%20%22100%25%22%7D%29%3B%0A%0A%20%20%20%20%20%20%20%20%0A%20%20%20%20%20%20%20%20%20%20%20%20var%20html_60465b075076417592ee1c08fc38ec85%20%3D%20%24%28%60%3Cdiv%20id%3D%22html_60465b075076417592ee1c08fc38ec85%22%20style%3D%22width%3A%20100.0%25%3B%20height%3A%20100.0%25%3B%22%3EBlue%20Lough%3C/div%3E%60%29%5B0%5D%3B%0A%20%20%20%20%20%20%20%20%20%20%20%20popup_4bf94ec26d28412bba721e9dadb9d102.setContent%28html_60465b075076417592ee1c08fc38ec85%29%3B%0A%20%20%20%20%20%20%20%20%0A%0A%20%20%20%20%20%20%20%20marker_7785db95b677421696ab0de53d073ead.bindPopup%28popup_4bf94ec26d28412bba721e9dadb9d102%29%0A%20%20%20%20%20%20%20%20%3B%0A%0A%20%20%20%20%20%20%20%20%0A%20%20%20%20%0A%20%20%20%20%0A%20%20%20%20%20%20%20%20%20%20%20%20var%20marker_40aa415fe355453b98f2fc28c9538e4e%20%3D%20L.marker%28%0A%20%20%20%20%20%20%20%20%20%20%20%20%20%20%20%20%5B57.4917%2C%20-5.4306%5D%2C%0A%20%20%20%20%20%20%20%20%20%20%20%20%20%20%20%20%7B%7D%0A%20%20%20%20%20%20%20%20%20%20%20%20%29.addTo%28marker_cluster_792eec222c2641cb904a0a361620787a%29%3B%0A%20%20%20%20%20%20%20%20%0A%20%20%20%20%0A%20%20%20%20%20%20%20%20var%20popup_0093f41d55a84de9b670a6515e306bb9%20%3D%20L.popup%28%7B%22maxWidth%22%3A%20%22100%25%22%7D%29%3B%0A%0A%20%20%20%20%20%20%20%20%0A%20%20%20%20%20%20%20%20%20%20%20%20var%20html_f6996de95b7045f8be566cbda4fcd2af%20%3D%20%24%28%60%3Cdiv%20id%3D%22html_f6996de95b7045f8be566cbda4fcd2af%22%20style%3D%22width%3A%20100.0%25%3B%20height%3A%20100.0%25%3B%22%3ELoch%20Coire%20Fionnaraich%3C/div%3E%60%29%5B0%5D%3B%0A%20%20%20%20%20%20%20%20%20%20%20%20popup_0093f41d55a84de9b670a6515e306bb9.setContent%28html_f6996de95b7045f8be566cbda4fcd2af%29%3B%0A%20%20%20%20%20%20%20%20%0A%0A%20%20%20%20%20%20%20%20marker_40aa415fe355453b98f2fc28c9538e4e.bindPopup%28popup_0093f41d55a84de9b670a6515e306bb9%29%0A%20%20%20%20%20%20%20%20%3B%0A%0A%20%20%20%20%20%20%20%20%0A%20%20%20%20%0A%20%20%20%20%0A%20%20%20%20%20%20%20%20%20%20%20%20var%20marker_97e73c24dbd443aba97392fded4fec46%20%3D%20L.marker%28%0A%20%20%20%20%20%20%20%20%20%20%20%20%20%20%20%20%5B56.755167%2C%20-3.224667%5D%2C%0A%20%20%20%20%20%20%20%20%20%20%20%20%20%20%20%20%7B%7D%0A%20%20%20%20%20%20%20%20%20%20%20%20%29.addTo%28marker_cluster_792eec222c2641cb904a0a361620787a%29%3B%0A%20%20%20%20%20%20%20%20%0A%20%20%20%20%0A%20%20%20%20%20%20%20%20var%20popup_f76ec750d4de4d1bb1bd3c0565ceb5f5%20%3D%20L.popup%28%7B%22maxWidth%22%3A%20%22100%25%22%7D%29%3B%0A%0A%20%20%20%20%20%20%20%20%0A%20%20%20%20%20%20%20%20%20%20%20%20var%20html_27bd6aed7c87446ebabf34941cc35eed%20%3D%20%24%28%60%3Cdiv%20id%3D%22html_27bd6aed7c87446ebabf34941cc35eed%22%20style%3D%22width%3A%20100.0%25%3B%20height%3A%20100.0%25%3B%22%3ELochnagar%3C/div%3E%60%29%5B0%5D%3B%0A%20%20%20%20%20%20%20%20%20%20%20%20popup_f76ec750d4de4d1bb1bd3c0565ceb5f5.setContent%28html_27bd6aed7c87446ebabf34941cc35eed%29%3B%0A%20%20%20%20%20%20%20%20%0A%0A%20%20%20%20%20%20%20%20marker_97e73c24dbd443aba97392fded4fec46.bindPopup%28popup_f76ec750d4de4d1bb1bd3c0565ceb5f5%29%0A%20%20%20%20%20%20%20%20%3B%0A%0A%20%20%20%20%20%20%20%20%0A%20%20%20%20%0A%20%20%20%20%0A%20%20%20%20%20%20%20%20%20%20%20%20var%20marker_fdeb91b72ed24a739370b8c369ad193e%20%3D%20L.marker%28%0A%20%20%20%20%20%20%20%20%20%20%20%20%20%20%20%20%5B55.0895%2C%20-4.424167%5D%2C%0A%20%20%20%20%20%20%20%20%20%20%20%20%20%20%20%20%7B%7D%0A%20%20%20%20%20%20%20%20%20%20%20%20%29.addTo%28marker_cluster_792eec222c2641cb904a0a361620787a%29%3B%0A%20%20%20%20%20%20%20%20%0A%20%20%20%20%0A%20%20%20%20%20%20%20%20var%20popup_b2e1135ca32b43c19ced011537558fc3%20%3D%20L.popup%28%7B%22maxWidth%22%3A%20%22100%25%22%7D%29%3B%0A%0A%20%20%20%20%20%20%20%20%0A%20%20%20%20%20%20%20%20%20%20%20%20var%20html_8387a292191c4a00a65199fc004272bd%20%3D%20%24%28%60%3Cdiv%20id%3D%22html_8387a292191c4a00a65199fc004272bd%22%20style%3D%22width%3A%20100.0%25%3B%20height%3A%20100.0%25%3B%22%3ERound%20Loch%20of%20Glenhead%3C/div%3E%60%29%5B0%5D%3B%0A%20%20%20%20%20%20%20%20%20%20%20%20popup_b2e1135ca32b43c19ced011537558fc3.setContent%28html_8387a292191c4a00a65199fc004272bd%29%3B%0A%20%20%20%20%20%20%20%20%0A%0A%20%20%20%20%20%20%20%20marker_fdeb91b72ed24a739370b8c369ad193e.bindPopup%28popup_b2e1135ca32b43c19ced011537558fc3%29%0A%20%20%20%20%20%20%20%20%3B%0A%0A%20%20%20%20%20%20%20%20%0A%20%20%20%20%0A%20%20%20%20%0A%20%20%20%20%20%20%20%20%20%20%20%20var%20layer_control_ed9f8dde4f2e4741b407d0358b5ac528%20%3D%20%7B%0A%20%20%20%20%20%20%20%20%20%20%20%20%20%20%20%20base_layers%20%3A%20%7B%0A%20%20%20%20%20%20%20%20%20%20%20%20%20%20%20%20%20%20%20%20%22stamenterrain%22%20%3A%20tile_layer_631f118f9fe449f29c973d4f64e8e45c%2C%0A%20%20%20%20%20%20%20%20%20%20%20%20%20%20%20%20%20%20%20%20%22Kartverket%20topographic%22%20%3A%20tile_layer_6ad21475658d4fa489d851c597d5b032%2C%0A%20%20%20%20%20%20%20%20%20%20%20%20%20%20%20%20%7D%2C%0A%20%20%20%20%20%20%20%20%20%20%20%20%20%20%20%20overlays%20%3A%20%20%7B%0A%20%20%20%20%20%20%20%20%20%20%20%20%20%20%20%20%20%20%20%20%22Stations%22%20%3A%20feature_group_f6a069bed123485c98f48131fc57cce8%2C%0A%20%20%20%20%20%20%20%20%20%20%20%20%20%20%20%20%7D%2C%0A%20%20%20%20%20%20%20%20%20%20%20%20%7D%3B%0A%20%20%20%20%20%20%20%20%20%20%20%20L.control.layers%28%0A%20%20%20%20%20%20%20%20%20%20%20%20%20%20%20%20layer_control_ed9f8dde4f2e4741b407d0358b5ac528.base_layers%2C%0A%20%20%20%20%20%20%20%20%20%20%20%20%20%20%20%20layer_control_ed9f8dde4f2e4741b407d0358b5ac528.overlays%2C%0A%20%20%20%20%20%20%20%20%20%20%20%20%20%20%20%20%7B%22autoZIndex%22%3A%20true%2C%20%22collapsed%22%3A%20true%2C%20%22position%22%3A%20%22topright%22%7D%0A%20%20%20%20%20%20%20%20%20%20%20%20%29.addTo%28map_59b9acc409a24ea08402159561c30e5c%29%3B%0A%20%20%20%20%20%20%20%20%20%20%20%20tile_layer_6ad21475658d4fa489d851c597d5b032.remove%28%29%3B%0A%20%20%20%20%20%20%20%20%0A%20%20%20%20%0A%20%20%20%20%20%20%20%20%20%20%20%20map_59b9acc409a24ea08402159561c30e5c.fitBounds%28%0A%20%20%20%20%20%20%20%20%20%20%20%20%20%20%20%20%5B%5B45.791667%2C%20-5.9675%5D%2C%20%5B69.684738%2C%2030.386154%5D%5D%2C%0A%20%20%20%20%20%20%20%20%20%20%20%20%20%20%20%20%7B%7D%0A%20%20%20%20%20%20%20%20%20%20%20%20%29%3B%0A%20%20%20%20%20%20%20%20%0A%3C/script%3E onload=\"this.contentDocument.open();this.contentDocument.write(    decodeURIComponent(this.getAttribute('data-html')));this.contentDocument.close();\" allowfullscreen webkitallowfullscreen mozallowfullscreen></iframe></div></div>"
      ],
      "text/plain": [
       "<folium.folium.Map at 0x7f36da632a00>"
      ]
     },
     "execution_count": 5,
     "metadata": {},
     "output_type": "execute_result"
    }
   ],
   "source": [
    "nivapy.spatial.quickmap(stn_df, popup=\"station_name\", cluster=True, kartverket=True)"
   ]
  },
  {
   "cell_type": "markdown",
   "id": "cf84aeab-50f0-4f7c-85f5-54596c6eb92e",
   "metadata": {},
   "source": [
    "### 1.2. Get parameters"
   ]
  },
  {
   "cell_type": "code",
   "execution_count": 6,
   "id": "ed31eaa2-28b8-420c-943e-819748d6c106",
   "metadata": {},
   "outputs": [
    {
     "name": "stdout",
     "output_type": "stream",
     "text": [
      "34 parameters available for the selected stations and dates.\n"
     ]
    },
    {
     "data": {
      "text/html": [
       "<div>\n",
       "<style scoped>\n",
       "    .dataframe tbody tr th:only-of-type {\n",
       "        vertical-align: middle;\n",
       "    }\n",
       "\n",
       "    .dataframe tbody tr th {\n",
       "        vertical-align: top;\n",
       "    }\n",
       "\n",
       "    .dataframe thead th {\n",
       "        text-align: right;\n",
       "    }\n",
       "</style>\n",
       "<table border=\"1\" class=\"dataframe\">\n",
       "  <thead>\n",
       "    <tr style=\"text-align: right;\">\n",
       "      <th></th>\n",
       "      <th>parameter_id</th>\n",
       "      <th>parameter_name</th>\n",
       "      <th>unit</th>\n",
       "    </tr>\n",
       "  </thead>\n",
       "  <tbody>\n",
       "    <tr>\n",
       "      <th>4</th>\n",
       "      <td>11</td>\n",
       "      <td>Ca</td>\n",
       "      <td>mg/l</td>\n",
       "    </tr>\n",
       "    <tr>\n",
       "      <th>6</th>\n",
       "      <td>7</td>\n",
       "      <td>Cl</td>\n",
       "      <td>mg/l</td>\n",
       "    </tr>\n",
       "    <tr>\n",
       "      <th>12</th>\n",
       "      <td>12</td>\n",
       "      <td>K</td>\n",
       "      <td>mg/l</td>\n",
       "    </tr>\n",
       "    <tr>\n",
       "      <th>16</th>\n",
       "      <td>13</td>\n",
       "      <td>Mg</td>\n",
       "      <td>mg/l</td>\n",
       "    </tr>\n",
       "    <tr>\n",
       "      <th>19</th>\n",
       "      <td>5</td>\n",
       "      <td>NO3-N</td>\n",
       "      <td>µg/l N</td>\n",
       "    </tr>\n",
       "    <tr>\n",
       "      <th>20</th>\n",
       "      <td>14</td>\n",
       "      <td>Na</td>\n",
       "      <td>mg/l</td>\n",
       "    </tr>\n",
       "    <tr>\n",
       "      <th>25</th>\n",
       "      <td>8</td>\n",
       "      <td>SO4</td>\n",
       "      <td>mg/l</td>\n",
       "    </tr>\n",
       "  </tbody>\n",
       "</table>\n",
       "</div>"
      ],
      "text/plain": [
       "    parameter_id parameter_name    unit\n",
       "4             11             Ca    mg/l\n",
       "6              7             Cl    mg/l\n",
       "12            12              K    mg/l\n",
       "16            13             Mg    mg/l\n",
       "19             5          NO3-N  µg/l N\n",
       "20            14             Na    mg/l\n",
       "25             8            SO4    mg/l"
      ]
     },
     "execution_count": 6,
     "metadata": {},
     "output_type": "execute_result"
    }
   ],
   "source": [
    "par_df = nivapy.da.select_resa_station_parameters(stn_df, st_dt, end_dt, eng)\n",
    "par_df = par_df.query(\"parameter_name in @par_list\")\n",
    "assert len(par_df) == len(par_list), \"Not all parameters available.\"\n",
    "par_df"
   ]
  },
  {
   "cell_type": "markdown",
   "id": "944a21bd-adef-41b5-ba1f-5fdc948b447c",
   "metadata": {},
   "source": [
    "### 1.3. Get water chemistry"
   ]
  },
  {
   "cell_type": "code",
   "execution_count": 7,
   "id": "0c6434ca-f5a6-47c6-947b-df9466a6329b",
   "metadata": {},
   "outputs": [],
   "source": [
    "def convert_to_microequivalents(df, sea_salt_corr=False):\n",
    "    \"\"\"Basic conversion from mass/l to microequivalents/l.\n",
    "\n",
    "    Arguments:\n",
    "        df {DataFrame} -- Raw water chemistry from Nivabasen\n",
    "        sea_salt_corr {bool} -- Whether to also apply sea-salt correction\n",
    "\n",
    "    Raises:\n",
    "        ValueError: If the appropriate unit factor cannot be identified.\n",
    "        Assertion error if sea_salt_corr is True and 'Cl_mg/l' is not in 'df'\n",
    "\n",
    "    Returns:\n",
    "        DataFrame -- 'df' is returned with additional columns added.\n",
    "    \"\"\"\n",
    "    if sea_salt_corr:\n",
    "        assert (\n",
    "            \"Cl_mg/l\" in df.columns\n",
    "        ), \"Column 'Cl_mg/l' is required if 'sea_salt_corr' is True.\"\n",
    "\n",
    "    chem_prop_df = pd.read_csv(r\"chemical_properties.csv\", sep=\";\")\n",
    "\n",
    "    for idx, row in chem_prop_df.iterrows():\n",
    "        par_unit = row[\"par\"]\n",
    "        valency = row[\"valency\"]\n",
    "        molar_mass = row[\"molar_mass\"]\n",
    "        cl_ratio = row[\"cl_ratio\"]\n",
    "\n",
    "        if par_unit in df.columns:\n",
    "            par, unit = par_unit.split(\"_\")\n",
    "\n",
    "            if unit[0] == \"m\":\n",
    "                factor = 1000\n",
    "            elif unit[0] == \"µ\":\n",
    "                factor = 1\n",
    "            else:\n",
    "                raise ValueError(\"Unit factor could not be identified.\")\n",
    "\n",
    "            df[f\"{par}_µekv/l\"] = df[par_unit] * valency * factor / molar_mass\n",
    "\n",
    "            if sea_salt_corr and cl_ratio:\n",
    "                df[f\"{par}*_µekv/l\"] = df[f\"{par}_µekv/l\"] - (\n",
    "                    cl_ratio * df[\"Cl_µekv/l\"]\n",
    "                )\n",
    "\n",
    "    # Remove unwanted columns\n",
    "    for col in [\"Cl*_µekv/l\", \"NO3-N*_µekv/l\"]:\n",
    "        if col in df.columns:\n",
    "            del df[col]\n",
    "\n",
    "    return df"
   ]
  },
  {
   "cell_type": "code",
   "execution_count": 11,
   "id": "bc2b708d-46f0-47f9-975d-78899c0ffea4",
   "metadata": {},
   "outputs": [
    {
     "data": {
      "text/html": [
       "<div>\n",
       "<style scoped>\n",
       "    .dataframe tbody tr th:only-of-type {\n",
       "        vertical-align: middle;\n",
       "    }\n",
       "\n",
       "    .dataframe tbody tr th {\n",
       "        vertical-align: top;\n",
       "    }\n",
       "\n",
       "    .dataframe thead th {\n",
       "        text-align: right;\n",
       "    }\n",
       "</style>\n",
       "<table border=\"1\" class=\"dataframe\">\n",
       "  <thead>\n",
       "    <tr style=\"text-align: right;\">\n",
       "      <th></th>\n",
       "      <th>station_id</th>\n",
       "      <th>station_code</th>\n",
       "      <th>station_name</th>\n",
       "      <th>year</th>\n",
       "      <th>depth1</th>\n",
       "      <th>depth2</th>\n",
       "      <th>Cl_µekv/l</th>\n",
       "      <th>Ca_µekv/l</th>\n",
       "      <th>Ca*_µekv/l</th>\n",
       "      <th>Mg_µekv/l</th>\n",
       "      <th>Mg*_µekv/l</th>\n",
       "      <th>Na_µekv/l</th>\n",
       "      <th>Na*_µekv/l</th>\n",
       "      <th>K_µekv/l</th>\n",
       "      <th>K*_µekv/l</th>\n",
       "      <th>SO4_µekv/l</th>\n",
       "      <th>SO4*_µekv/l</th>\n",
       "      <th>NO3-N_µekv/l</th>\n",
       "    </tr>\n",
       "  </thead>\n",
       "  <tbody>\n",
       "    <tr>\n",
       "      <th>0</th>\n",
       "      <td>23505</td>\n",
       "      <td>DE01</td>\n",
       "      <td>Schwarzwald, Dürreychbach</td>\n",
       "      <td>2000</td>\n",
       "      <td>0.0</td>\n",
       "      <td>0.0</td>\n",
       "      <td>53.592080</td>\n",
       "      <td>117.847121</td>\n",
       "      <td>115.515244</td>\n",
       "      <td>82.287595</td>\n",
       "      <td>71.783548</td>\n",
       "      <td>45.839328</td>\n",
       "      <td>-1.747566</td>\n",
       "      <td>41.773231</td>\n",
       "      <td>41.118579</td>\n",
       "      <td>71.830106</td>\n",
       "      <td>64.512003</td>\n",
       "      <td>86.586504</td>\n",
       "    </tr>\n",
       "    <tr>\n",
       "      <th>1</th>\n",
       "      <td>23505</td>\n",
       "      <td>DE01</td>\n",
       "      <td>Schwarzwald, Dürreychbach</td>\n",
       "      <td>2001</td>\n",
       "      <td>0.0</td>\n",
       "      <td>0.0</td>\n",
       "      <td>81.563384</td>\n",
       "      <td>119.350600</td>\n",
       "      <td>116.332754</td>\n",
       "      <td>82.287595</td>\n",
       "      <td>66.301172</td>\n",
       "      <td>32.622880</td>\n",
       "      <td>-37.440068</td>\n",
       "      <td>60.741688</td>\n",
       "      <td>59.273547</td>\n",
       "      <td>74.432646</td>\n",
       "      <td>66.031618</td>\n",
       "      <td>87.259101</td>\n",
       "    </tr>\n",
       "    <tr>\n",
       "      <th>2</th>\n",
       "      <td>23505</td>\n",
       "      <td>DE01</td>\n",
       "      <td>Schwarzwald, Dürreychbach</td>\n",
       "      <td>2002</td>\n",
       "      <td>0.0</td>\n",
       "      <td>0.0</td>\n",
       "      <td>66.049888</td>\n",
       "      <td>123.925013</td>\n",
       "      <td>121.481167</td>\n",
       "      <td>82.287595</td>\n",
       "      <td>69.341817</td>\n",
       "      <td>86.994345</td>\n",
       "      <td>30.257492</td>\n",
       "      <td>41.773231</td>\n",
       "      <td>40.584333</td>\n",
       "      <td>84.495801</td>\n",
       "      <td>77.692663</td>\n",
       "      <td>83.333333</td>\n",
       "    </tr>\n",
       "    <tr>\n",
       "      <th>3</th>\n",
       "      <td>23505</td>\n",
       "      <td>DE01</td>\n",
       "      <td>Schwarzwald, Dürreychbach</td>\n",
       "      <td>2003</td>\n",
       "      <td>0.0</td>\n",
       "      <td>0.0</td>\n",
       "      <td>71.456106</td>\n",
       "      <td>104.379793</td>\n",
       "      <td>101.735917</td>\n",
       "      <td>82.287595</td>\n",
       "      <td>68.282198</td>\n",
       "      <td>86.994345</td>\n",
       "      <td>25.613550</td>\n",
       "      <td>60.741688</td>\n",
       "      <td>59.455478</td>\n",
       "      <td>62.460962</td>\n",
       "      <td>55.100983</td>\n",
       "      <td>88.924578</td>\n",
       "    </tr>\n",
       "    <tr>\n",
       "      <th>4</th>\n",
       "      <td>23505</td>\n",
       "      <td>DE01</td>\n",
       "      <td>Schwarzwald, Dürreychbach</td>\n",
       "      <td>2004</td>\n",
       "      <td>0.0</td>\n",
       "      <td>0.0</td>\n",
       "      <td>75.289278</td>\n",
       "      <td>138.959798</td>\n",
       "      <td>136.174094</td>\n",
       "      <td>58.867280</td>\n",
       "      <td>44.110581</td>\n",
       "      <td>86.994345</td>\n",
       "      <td>22.320856</td>\n",
       "      <td>63.348416</td>\n",
       "      <td>61.993209</td>\n",
       "      <td>75.273467</td>\n",
       "      <td>67.518671</td>\n",
       "      <td>77.417229</td>\n",
       "    </tr>\n",
       "  </tbody>\n",
       "</table>\n",
       "</div>"
      ],
      "text/plain": [
       "   station_id station_code               station_name  year  depth1  depth2  \\\n",
       "0       23505         DE01  Schwarzwald, Dürreychbach  2000     0.0     0.0   \n",
       "1       23505         DE01  Schwarzwald, Dürreychbach  2001     0.0     0.0   \n",
       "2       23505         DE01  Schwarzwald, Dürreychbach  2002     0.0     0.0   \n",
       "3       23505         DE01  Schwarzwald, Dürreychbach  2003     0.0     0.0   \n",
       "4       23505         DE01  Schwarzwald, Dürreychbach  2004     0.0     0.0   \n",
       "\n",
       "   Cl_µekv/l   Ca_µekv/l  Ca*_µekv/l  Mg_µekv/l  Mg*_µekv/l  Na_µekv/l  \\\n",
       "0  53.592080  117.847121  115.515244  82.287595   71.783548  45.839328   \n",
       "1  81.563384  119.350600  116.332754  82.287595   66.301172  32.622880   \n",
       "2  66.049888  123.925013  121.481167  82.287595   69.341817  86.994345   \n",
       "3  71.456106  104.379793  101.735917  82.287595   68.282198  86.994345   \n",
       "4  75.289278  138.959798  136.174094  58.867280   44.110581  86.994345   \n",
       "\n",
       "   Na*_µekv/l   K_µekv/l  K*_µekv/l  SO4_µekv/l  SO4*_µekv/l  NO3-N_µekv/l  \n",
       "0   -1.747566  41.773231  41.118579   71.830106    64.512003     86.586504  \n",
       "1  -37.440068  60.741688  59.273547   74.432646    66.031618     87.259101  \n",
       "2   30.257492  41.773231  40.584333   84.495801    77.692663     83.333333  \n",
       "3   25.613550  60.741688  59.455478   62.460962    55.100983     88.924578  \n",
       "4   22.320856  63.348416  61.993209   75.273467    67.518671     77.417229  "
      ]
     },
     "execution_count": 11,
     "metadata": {},
     "output_type": "execute_result"
    }
   ],
   "source": [
    "wc_df, dup_df = nivapy.da.select_resa_water_chemistry(\n",
    "    stn_df, par_df, st_dt, end_dt, eng, lod_flags=False, drop_dups=True\n",
    ")\n",
    "wc_df.rename({\"NO3-N_µg/l N\": \"NO3-N_µg/l\"}, axis=\"columns\", inplace=True)\n",
    "wc_df = convert_to_microequivalents(wc_df, sea_salt_corr=True)\n",
    "wc_df = wc_df.query(\"(depth1 == 0) and (depth2 == 0)\")\n",
    "wc_df[\"year\"] = wc_df[\"sample_date\"].dt.year\n",
    "wc_df = (\n",
    "    wc_df.groupby([\"station_id\", \"station_code\", \"station_name\", \"year\"])\n",
    "    .mean()\n",
    "    .reset_index()\n",
    ")\n",
    "\n",
    "# Remove unwanted units\n",
    "for col in wc_df.columns:\n",
    "    if col.split(\"_\")[-1] in (\"mg/l\", \"µg/l\"):\n",
    "        del wc_df[col]\n",
    "\n",
    "wc_df.to_csv(\"water_chem.csv\", index=False)\n",
    "\n",
    "wc_df.head()"
   ]
  },
  {
   "cell_type": "markdown",
   "id": "ef2b8a87-9732-4279-8d5e-3b81d1c3c327",
   "metadata": {},
   "source": [
    "## 2. Get deposition\n",
    "\n",
    "Code from here onwards should be run on JupyterHub."
   ]
  },
  {
   "cell_type": "code",
   "execution_count": null,
   "id": "00d3d658-ef6d-42e2-b36b-c27e272e2e76",
   "metadata": {},
   "outputs": [],
   "source": [
    "# Read data from Nivabasen\n",
    "stn_df = pd.read_csv(\"stations_used_2022.csv\")\n",
    "wc_df = pd.read_csv(\"water_chem.csv\")"
   ]
  },
  {
   "cell_type": "markdown",
   "id": "149ea761-09b7-4ba5-a737-c340f479e1ba",
   "metadata": {},
   "source": [
    "### 4.1. \"Standard\" EMEP data from 2000 to 2019\n",
    "\n",
    "Available from [here](https://www.emep.int/mscw/mscw_moddata.html) (`2000-2018 (Type2) and 2019 (Type1)`)."
   ]
  },
  {
   "cell_type": "code",
   "execution_count": null,
   "id": "e0283676-2815-4205-87de-a97855c120fc",
   "metadata": {},
   "outputs": [],
   "source": [
    "# List files to process\n",
    "file_paths = [\n",
    "    f\"https://thredds.met.no/thredds/dodsC/data/EMEP/2021_Reporting/EMEP01_rv4.42_year.{year}met_{year}emis_rep2021.nc\"\n",
    "    for year in range(2000, 2019)\n",
    "]\n",
    "\n",
    "# Data for 2019 have a different naming convention/url\n",
    "file_paths += [\n",
    "    r\"https://thredds.met.no/thredds/dodsC/data/EMEP/2021_Reporting/EMEP01_rv4.42_year.2019met_2019emis.nc\"\n",
    "]"
   ]
  },
  {
   "cell_type": "code",
   "execution_count": null,
   "id": "3bb3affd-c06a-4057-adb6-268ac139c628",
   "metadata": {},
   "outputs": [],
   "source": [
    "# Open datasets\n",
    "ds = xr.open_mfdataset(\n",
    "    file_paths,\n",
    "    combine=\"by_coords\",\n",
    ")\n",
    "ds"
   ]
  },
  {
   "cell_type": "code",
   "execution_count": null,
   "id": "8114d950-c295-40d6-a1a4-13dff381053f",
   "metadata": {},
   "outputs": [],
   "source": [
    "# Load data from URL into memory to improve performance later\n",
    "ds = ds.load()"
   ]
  },
  {
   "cell_type": "code",
   "execution_count": null,
   "id": "e0b5fb88-603d-4d68-a39f-1b3c948b1be3",
   "metadata": {},
   "outputs": [],
   "source": [
    "# Pars of interest\n",
    "par_list = [\n",
    "    \"DDEP_SOX_m2Grid\",\n",
    "    \"WDEP_SOX\",\n",
    "    \"DDEP_OXN_m2Grid\",\n",
    "    \"WDEP_OXN\",\n",
    "    \"DDEP_RDN_m2Grid\",\n",
    "    \"WDEP_RDN\",\n",
    "]\n",
    "\n",
    "# Check N units are consistent\n",
    "for par in par_list:\n",
    "    unit = ds[par].attrs[\"units\"]\n",
    "    print(f\"{par: <20}\", unit)\n",
    "    assert unit in [\"mgS/m2\", \"mgN/m2\"], \"Units not consistent.\""
   ]
  },
  {
   "cell_type": "code",
   "execution_count": null,
   "id": "acfab147-3930-4da4-a2f8-4bc00cd0d2cb",
   "metadata": {},
   "outputs": [],
   "source": [
    "# Calculate total oxidised S\n",
    "ds[\"DEP_SOX\"] = ds[\"WDEP_SOX\"] + ds[\"DDEP_SOX_m2Grid\"]\n",
    "ds[\"DEP_SOX\"].attrs[\"units\"] = \"mgS/m2\"\n",
    "\n",
    "# Calculate total oxidised N\n",
    "ds[\"DEP_OXN\"] = ds[\"WDEP_OXN\"] + ds[\"DDEP_OXN_m2Grid\"]\n",
    "ds[\"DEP_OXN\"].attrs[\"units\"] = \"mgN/m2\"\n",
    "\n",
    "# Calculate total reduced N\n",
    "ds[\"DEP_RDN\"] = ds[\"WDEP_RDN\"] + ds[\"DDEP_RDN_m2Grid\"]\n",
    "ds[\"DEP_RDN\"].attrs[\"units\"] = \"mgN/m2\"\n",
    "\n",
    "# Calculate total N\n",
    "ds[\"DEP_TOTN\"] = (\n",
    "    ds[\"WDEP_OXN\"] + ds[\"WDEP_RDN\"] + ds[\"DDEP_OXN_m2Grid\"] + ds[\"DDEP_RDN_m2Grid\"]\n",
    ")\n",
    "ds[\"DEP_TOTN\"].attrs[\"units\"] = \"mgN/m2\""
   ]
  },
  {
   "cell_type": "code",
   "execution_count": null,
   "id": "411ec15d-a23d-4f4c-9e5c-8e9c5f1f4f05",
   "metadata": {},
   "outputs": [],
   "source": [
    "%%time\n",
    "\n",
    "par_list = [\"DEP_SOX\", \"DEP_TOTN\"]\n",
    "df_list = []\n",
    "for idx, row in stn_df.iterrows():\n",
    "    lat = row[\"latitude\"]\n",
    "    lon = row[\"longitude\"]\n",
    "    stn_id = row[\"station_id\"]\n",
    "\n",
    "    # Get time series\n",
    "    df = (\n",
    "        ds[par_list]\n",
    "        .sel(lat=lat, lon=lon, method=\"nearest\")\n",
    "        .to_dataframe()\n",
    "        .reset_index()\n",
    "    )\n",
    "    df[\"station_id\"] = stn_id\n",
    "    df[\"year\"] = df[\"time\"].dt.year\n",
    "\n",
    "    df_list.append(df)\n",
    "\n",
    "# Combine results\n",
    "df = pd.concat(df_list, sort=True).reset_index(drop=True)\n",
    "df = df[[\"station_id\", \"year\"] + par_list]\n",
    "par_unit = [i + \"_mgpm2\" for i in par_list]\n",
    "df.columns = [\"station_id\", \"year\"] + par_unit\n",
    "\n",
    "df.head()"
   ]
  },
  {
   "cell_type": "code",
   "execution_count": null,
   "id": "b9eb122c-a14a-4b9f-b4d0-ebf4cd1c1ec5",
   "metadata": {},
   "outputs": [],
   "source": [
    "%%time\n",
    "\n",
    "par_list = [\"DEP_SOX\", \"DEP_TOTN\"]\n",
    "df_list = []\n",
    "\n",
    "# Get time series\n",
    "df2 = (\n",
    "    ds[par_list]\n",
    "    .sel(lat=stn_df[\"latitude\"], lon=stn_df[\"longitude\"], method=\"nearest\")\n",
    "    .to_dataframe()\n",
    "    .reset_index()\n",
    ")\n",
    "df2[\"station_id\"] = stn_df[\"station_id\"]\n",
    "\n",
    "# Combine results\n",
    "df2[\"year\"] = df2[\"time\"].dt.year\n",
    "df2 = df2[[\"station_id\", \"year\"] + par_list]\n",
    "par_unit = [i + \"_mgpm2\" for i in par_list]\n",
    "df2.columns = [\"station_id\", \"year\"] + par_unit\n",
    "\n",
    "df2.head()"
   ]
  },
  {
   "cell_type": "code",
   "execution_count": null,
   "id": "e3b79cec-ad7b-4ae7-bd7c-5009836b8f74",
   "metadata": {},
   "outputs": [],
   "source": [
    "sn.relplot(\n",
    "    data=df,\n",
    "    x=\"year\",\n",
    "    y=\"DEP_TOTN_mgpm2\",\n",
    "    height=4,\n",
    "    aspect=3,\n",
    "    kind=\"line\",\n",
    "    legend=False,\n",
    "    alpha=0.5,\n",
    ")"
   ]
  },
  {
   "cell_type": "code",
   "execution_count": null,
   "id": "44cf75bb-f16d-4638-89de-e82f9e43092a",
   "metadata": {},
   "outputs": [],
   "source": [
    "sn.relplot(\n",
    "    data=df,\n",
    "    x=\"year\",\n",
    "    y=\"DEP_SOX_mgpm2\",\n",
    "    height=4,\n",
    "    aspect=3,\n",
    "    kind=\"line\",\n",
    "    legend=False,\n",
    "    alpha=0.5,\n",
    ")"
   ]
  },
  {
   "cell_type": "markdown",
   "id": "66904c8d-c047-4bc0-88c9-570ffa12437c",
   "metadata": {},
   "source": [
    "### 4.2. EMEP Scenarios\n",
    "\n",
    "Prepared for the GP review and downloaded from [here](https://aerocom-classic.met.no/DATA/download/GP_review_WGE/) (see e-mail from Heleen received 05.05.2022 at 12:25 for details)."
   ]
  },
  {
   "cell_type": "code",
   "execution_count": null,
   "id": "86eee8b7-ebbb-4d95-9517-b87b3bdd7044",
   "metadata": {},
   "outputs": [],
   "source": [
    "# Pars of interest\n",
    "par_list = [\n",
    "    \"DDEP_SOX_m2Grid\",\n",
    "    \"WDEP_SOX\",\n",
    "    \"DDEP_OXN_m2Grid\",\n",
    "    \"WDEP_OXN\",\n",
    "    \"DDEP_RDN_m2Grid\",\n",
    "    \"WDEP_RDN\",\n",
    "]"
   ]
  },
  {
   "cell_type": "code",
   "execution_count": null,
   "id": "a99965d2-3ec6-42be-b351-1cfaeaad3158",
   "metadata": {},
   "outputs": [],
   "source": [
    "search_path = r\"../../../gp_review_2022/emep_data/*.nc\"\n",
    "flist = glob.glob(search_path)\n",
    "for fpath in flist:\n",
    "    met, emis, scen = os.path.split(fpath)[1].split(\"_\")[2:5]\n",
    "\n",
    "    ds = xr.open_dataset(fpath)\n",
    "    df2 = (\n",
    "        ds[par_list]\n",
    "        .sel(lat=stn_df[\"latitude\"], lon=stn_df[\"longitude\"], method=\"nearest\")\n",
    "        .to_dataframe()\n",
    "        .reset_index()\n",
    "    )\n",
    "    df2[\"station_id\"] = stn_df[\"station_id\"]"
   ]
  },
  {
   "cell_type": "code",
   "execution_count": null,
   "id": "e49b2910-dd3f-455b-86b7-b9763c40590f",
   "metadata": {},
   "outputs": [],
   "source": [
    "ds"
   ]
  },
  {
   "cell_type": "markdown",
   "id": "d0143f2d-83a1-4e5e-8030-e3a1343fc557",
   "metadata": {},
   "source": [
    "## 5. Get runoff"
   ]
  },
  {
   "cell_type": "code",
   "execution_count": null,
   "id": "1dc25f1e-7c52-4606-aeab-98e4b8415f0b",
   "metadata": {},
   "outputs": [],
   "source": [
    "par_df = nivapy.da.get_nve_gts_api_parameters()\n",
    "par_df"
   ]
  },
  {
   "cell_type": "code",
   "execution_count": null,
   "id": "c1f6b0b0-f5e6-4ed7-b3e7-69318f1e6a0c",
   "metadata": {},
   "outputs": [],
   "source": [
    "pars = [\"gwb_q\"]\n",
    "\n",
    "st_dt = \"2000-01-01\"\n",
    "end_dt = \"2019-12-31\"\n",
    "\n",
    "res_df = nivapy.da.get_nve_gts_api_time_series(\n",
    "    stn_df,\n",
    "    pars,\n",
    "    st_dt,\n",
    "    end_dt,\n",
    "    id_col=\"station_id\",\n",
    "    xcol=\"longitude\",\n",
    "    ycol=\"latitude\",\n",
    "    crs=\"epsg:4326\",\n",
    ")\n",
    "res_df.head()"
   ]
  }
 ],
 "metadata": {
  "kernelspec": {
   "display_name": "Python 3 (ipykernel)",
   "language": "python",
   "name": "python3"
  },
  "language_info": {
   "codemirror_mode": {
    "name": "ipython",
    "version": 3
   },
   "file_extension": ".py",
   "mimetype": "text/x-python",
   "name": "python",
   "nbconvert_exporter": "python",
   "pygments_lexer": "ipython3",
   "version": "3.9.10"
  }
 },
 "nbformat": 4,
 "nbformat_minor": 5
}

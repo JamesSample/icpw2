{
 "cells": [
  {
   "cell_type": "code",
   "execution_count": null,
   "id": "9664472b-66f7-451c-bc6d-8beaab050ab9",
   "metadata": {},
   "outputs": [],
   "source": [
    "import glob\n",
    "import os\n",
    "\n",
    "import geopandas as gpd\n",
    "import matplotlib.pyplot as plt\n",
    "import nivapy3 as nivapy\n",
    "import numpy as np\n",
    "import pandas as pd\n",
    "import seaborn as sn\n",
    "import xarray as xr\n",
    "\n",
    "plt.style.use(\"ggplot\")"
   ]
  },
  {
   "cell_type": "markdown",
   "id": "f3c82e4c-3a53-4872-87e1-c02189ad1da1",
   "metadata": {},
   "source": [
    "# ICP Waters GP review 2022\n",
    "\n",
    "The notebook compiles data for the 2022 GP Review for the WGE. I don't actually know what these acronyms mean (!), but the data required are described by Øyvind G in e-mails received 24.03.2022 at 11.18 and 18.17."
   ]
  },
  {
   "cell_type": "markdown",
   "id": "697b5c8c-221c-4618-a180-3e9a4e7ad58e",
   "metadata": {},
   "source": [
    "## 1. Get data from RESA2\n",
    "\n",
    "**Note:** Code in this section requires a direct connection to Nivabasen."
   ]
  },
  {
   "cell_type": "code",
   "execution_count": null,
   "id": "3931f65f-8beb-4626-b794-33eb31244ab8",
   "metadata": {},
   "outputs": [],
   "source": [
    "eng = nivapy.da.connect()"
   ]
  },
  {
   "cell_type": "code",
   "execution_count": null,
   "id": "d75d0ebe-cc77-4fe5-af08-632b76500767",
   "metadata": {},
   "outputs": [],
   "source": [
    "st_dt = \"2000-01-01\"\n",
    "end_dt = \"2019-12-31\"\n",
    "par_list = [\"Ca\", \"Mg\", \"Na\", \"K\", \"SO4\", \"NO3-N\", \"Cl\"]"
   ]
  },
  {
   "cell_type": "markdown",
   "id": "30b58b6b-2b51-499e-a65b-010a939b3812",
   "metadata": {},
   "source": [
    "### 1.1. Get stations\n",
    "\n",
    "The previous analysis in 2015 considered 61 stations. Some of these have been replaced in ICPW and others removed from the dataset completely (see e-mail sent to Heleen and Øyvind on 09.05.2022 at 15:41 for details). For the current review, we will use 59 sites (see reply from Heleen received 09.05.2022 at 16.09)."
   ]
  },
  {
   "cell_type": "code",
   "execution_count": null,
   "id": "ff9d24ca-ce31-4e10-b6a3-44c0f78920b7",
   "metadata": {},
   "outputs": [],
   "source": [
    "oga_df = pd.read_excel(\"stations_used_2015.xlsx\")\n",
    "oga_df.dropna(subset=\"Tr18_Code\", inplace=True)\n",
    "stn_cds = list(oga_df[\"Tr18_Code\"].unique())\n",
    "\n",
    "stn_df = nivapy.da.select_resa_stations(eng)\n",
    "stn_df = stn_df.query(\"station_code in @stn_cds\")\n",
    "\n",
    "assert len(oga_df) == len(stn_df), \"Not all stations identified in RESA.\"\n",
    "stn_df.to_csv(\"stations_used_2022.csv\", index=False)\n",
    "stn_df.head()"
   ]
  },
  {
   "cell_type": "code",
   "execution_count": null,
   "id": "e7b5d9d3-b577-4a85-95f2-a24c7a17648a",
   "metadata": {},
   "outputs": [],
   "source": [
    "nivapy.spatial.quickmap(stn_df, popup=\"station_name\", cluster=True, kartverket=True)"
   ]
  },
  {
   "cell_type": "markdown",
   "id": "cf84aeab-50f0-4f7c-85f5-54596c6eb92e",
   "metadata": {},
   "source": [
    "### 1.2. Get parameters"
   ]
  },
  {
   "cell_type": "code",
   "execution_count": null,
   "id": "ed31eaa2-28b8-420c-943e-819748d6c106",
   "metadata": {},
   "outputs": [],
   "source": [
    "par_df = nivapy.da.select_resa_station_parameters(stn_df, st_dt, end_dt, eng)\n",
    "par_df = par_df.query(\"parameter_name in @par_list\")\n",
    "assert len(par_df) == len(par_list), \"Not all parameters available.\"\n",
    "par_df"
   ]
  },
  {
   "cell_type": "markdown",
   "id": "944a21bd-adef-41b5-ba1f-5fdc948b447c",
   "metadata": {},
   "source": [
    "### 1.3. Get water chemistry"
   ]
  },
  {
   "cell_type": "code",
   "execution_count": null,
   "id": "0c6434ca-f5a6-47c6-947b-df9466a6329b",
   "metadata": {},
   "outputs": [],
   "source": [
    "def convert_to_microequivalents(df, sea_salt_corr=False):\n",
    "    \"\"\"Basic conversion from mass/l to microequivalents/l.\n",
    "\n",
    "    Arguments:\n",
    "        df {DataFrame} -- Raw water chemistry from Nivabasen\n",
    "        sea_salt_corr {bool} -- Whether to also apply sea-salt correction\n",
    "\n",
    "    Raises:\n",
    "        ValueError: If the appropriate unit factor cannot be identified.\n",
    "        Assertion error if sea_salt_corr is True and 'Cl_mg/l' is not in 'df'\n",
    "\n",
    "    Returns:\n",
    "        DataFrame -- 'df' is returned with additional columns added.\n",
    "    \"\"\"\n",
    "    if sea_salt_corr:\n",
    "        assert (\n",
    "            \"Cl_mg/l\" in df.columns\n",
    "        ), \"Column 'Cl_mg/l' is required if 'sea_salt_corr' is True.\"\n",
    "\n",
    "    chem_prop_df = pd.read_csv(r\"chemical_properties.csv\", sep=\";\")\n",
    "\n",
    "    for idx, row in chem_prop_df.iterrows():\n",
    "        par_unit = row[\"par\"]\n",
    "        valency = row[\"valency\"]\n",
    "        molar_mass = row[\"molar_mass\"]\n",
    "        cl_ratio = row[\"cl_ratio\"]\n",
    "\n",
    "        if par_unit in df.columns:\n",
    "            par, unit = par_unit.split(\"_\")\n",
    "\n",
    "            if unit[0] == \"m\":\n",
    "                factor = 1000\n",
    "            elif unit[0] == \"µ\":\n",
    "                factor = 1\n",
    "            else:\n",
    "                raise ValueError(\"Unit factor could not be identified.\")\n",
    "\n",
    "            df[f\"{par}_µekv/l\"] = df[par_unit] * valency * factor / molar_mass\n",
    "\n",
    "            if sea_salt_corr and cl_ratio:\n",
    "                df[f\"{par}*_µekv/l\"] = df[f\"{par}_µekv/l\"] - (\n",
    "                    cl_ratio * df[\"Cl_µekv/l\"]\n",
    "                )\n",
    "\n",
    "    # Remove unwanted columns\n",
    "    for col in [\"Cl*_µekv/l\", \"NO3-N*_µekv/l\"]:\n",
    "        if col in df.columns:\n",
    "            del df[col]\n",
    "\n",
    "    return df"
   ]
  },
  {
   "cell_type": "code",
   "execution_count": null,
   "id": "bc2b708d-46f0-47f9-975d-78899c0ffea4",
   "metadata": {},
   "outputs": [],
   "source": [
    "wc_df, dup_df = nivapy.da.select_resa_water_chemistry(\n",
    "    stn_df, par_df, st_dt, end_dt, eng, lod_flags=False, drop_dups=True\n",
    ")\n",
    "wc_df.rename({\"NO3-N_µg/l N\": \"NO3-N_µg/l\"}, axis=\"columns\", inplace=True)\n",
    "wc_df = convert_to_microequivalents(wc_df, sea_salt_corr=True)\n",
    "wc_df = wc_df.query(\"(depth1 == 0) and (depth2 == 0)\")\n",
    "wc_df[\"year\"] = wc_df[\"sample_date\"].dt.year\n",
    "wc_df = (\n",
    "    wc_df.groupby([\"station_id\", \"station_code\", \"station_name\", \"year\"])\n",
    "    .mean()\n",
    "    .reset_index()\n",
    ")\n",
    "wc_df.to_csv(\"water_chem.csv\", index=False)\n",
    "wc_df.head()"
   ]
  },
  {
   "cell_type": "markdown",
   "id": "ef2b8a87-9732-4279-8d5e-3b81d1c3c327",
   "metadata": {},
   "source": [
    "## 2. Get deposition\n",
    "\n",
    "Code from here onwards should be run on JupyterHub."
   ]
  },
  {
   "cell_type": "code",
   "execution_count": null,
   "id": "00d3d658-ef6d-42e2-b36b-c27e272e2e76",
   "metadata": {},
   "outputs": [],
   "source": [
    "# Read data from Nivabasen\n",
    "stn_df = pd.read_csv(\"stations_used_2022.csv\")\n",
    "wc_df = pd.read_csv(\"water_chem.csv\")"
   ]
  },
  {
   "cell_type": "markdown",
   "id": "149ea761-09b7-4ba5-a737-c340f479e1ba",
   "metadata": {},
   "source": [
    "### 4.1. \"Standard\" EMEP data from 2000 to 2019\n",
    "\n",
    "Available from [here](https://www.emep.int/mscw/mscw_moddata.html) (`2000-2018 (Type2) and 2019 (Type1)`)."
   ]
  },
  {
   "cell_type": "code",
   "execution_count": null,
   "id": "e0283676-2815-4205-87de-a97855c120fc",
   "metadata": {},
   "outputs": [],
   "source": [
    "# List files to process\n",
    "file_paths = [\n",
    "    f\"https://thredds.met.no/thredds/dodsC/data/EMEP/2021_Reporting/EMEP01_rv4.42_year.{year}met_{year}emis_rep2021.nc\"\n",
    "    for year in range(2000, 2019)\n",
    "]\n",
    "\n",
    "# Data for 2019 have a different naming convention/url\n",
    "file_paths += [\n",
    "    r\"https://thredds.met.no/thredds/dodsC/data/EMEP/2021_Reporting/EMEP01_rv4.42_year.2019met_2019emis.nc\"\n",
    "]"
   ]
  },
  {
   "cell_type": "code",
   "execution_count": null,
   "id": "3bb3affd-c06a-4057-adb6-268ac139c628",
   "metadata": {},
   "outputs": [],
   "source": [
    "# Open datasets\n",
    "ds = xr.open_mfdataset(\n",
    "    file_paths,\n",
    "    combine=\"by_coords\",\n",
    ")\n",
    "ds"
   ]
  },
  {
   "cell_type": "code",
   "execution_count": null,
   "id": "8114d950-c295-40d6-a1a4-13dff381053f",
   "metadata": {},
   "outputs": [],
   "source": [
    "# Load data from URL into memory to improve performance later\n",
    "ds = ds.load()"
   ]
  },
  {
   "cell_type": "code",
   "execution_count": null,
   "id": "e0b5fb88-603d-4d68-a39f-1b3c948b1be3",
   "metadata": {},
   "outputs": [],
   "source": [
    "# Pars of interest\n",
    "par_list = [\n",
    "    \"DDEP_SOX_m2Grid\",\n",
    "    \"WDEP_SOX\",\n",
    "    \"DDEP_OXN_m2Grid\",\n",
    "    \"WDEP_OXN\",\n",
    "    \"DDEP_RDN_m2Grid\",\n",
    "    \"WDEP_RDN\",\n",
    "]\n",
    "\n",
    "# Check N units are consistent\n",
    "for par in par_list:\n",
    "    unit = ds[par].attrs[\"units\"]\n",
    "    print(f\"{par: <20}\", unit)\n",
    "    assert unit in [\"mgS/m2\", \"mgN/m2\"], \"Units not consistent.\""
   ]
  },
  {
   "cell_type": "code",
   "execution_count": null,
   "id": "acfab147-3930-4da4-a2f8-4bc00cd0d2cb",
   "metadata": {},
   "outputs": [],
   "source": [
    "# Calculate total oxidised S\n",
    "ds[\"DEP_SOX\"] = ds[\"WDEP_SOX\"] + ds[\"DDEP_SOX_m2Grid\"]\n",
    "ds[\"DEP_SOX\"].attrs[\"units\"] = \"mgS/m2\"\n",
    "\n",
    "# Calculate total oxidised N\n",
    "ds[\"DEP_OXN\"] = ds[\"WDEP_OXN\"] + ds[\"DDEP_OXN_m2Grid\"]\n",
    "ds[\"DEP_OXN\"].attrs[\"units\"] = \"mgN/m2\"\n",
    "\n",
    "# Calculate total reduced N\n",
    "ds[\"DEP_RDN\"] = ds[\"WDEP_RDN\"] + ds[\"DDEP_RDN_m2Grid\"]\n",
    "ds[\"DEP_RDN\"].attrs[\"units\"] = \"mgN/m2\"\n",
    "\n",
    "# Calculate total N\n",
    "ds[\"DEP_TOTN\"] = (\n",
    "    ds[\"WDEP_OXN\"] + ds[\"WDEP_RDN\"] + ds[\"DDEP_OXN_m2Grid\"] + ds[\"DDEP_RDN_m2Grid\"]\n",
    ")\n",
    "ds[\"DEP_TOTN\"].attrs[\"units\"] = \"mgN/m2\""
   ]
  },
  {
   "cell_type": "code",
   "execution_count": null,
   "id": "411ec15d-a23d-4f4c-9e5c-8e9c5f1f4f05",
   "metadata": {},
   "outputs": [],
   "source": [
    "%%time\n",
    "\n",
    "par_list = [\"DEP_SOX\", \"DEP_TOTN\"]\n",
    "df_list = []\n",
    "for idx, row in stn_df.iterrows():\n",
    "    lat = row[\"latitude\"]\n",
    "    lon = row[\"longitude\"]\n",
    "    stn_id = row[\"station_id\"]\n",
    "\n",
    "    # Get time series\n",
    "    df = (\n",
    "        ds[par_list]\n",
    "        .sel(lat=lat, lon=lon, method=\"nearest\")\n",
    "        .to_dataframe()\n",
    "        .reset_index()\n",
    "    )\n",
    "    df[\"station_id\"] = stn_id\n",
    "    df[\"year\"] = df[\"time\"].dt.year\n",
    "\n",
    "    df_list.append(df)\n",
    "\n",
    "# Combine results\n",
    "df = pd.concat(df_list, sort=True).reset_index(drop=True)\n",
    "df = df[[\"station_id\", \"year\"] + par_list]\n",
    "par_unit = [i + \"_mgpm2\" for i in par_list]\n",
    "df.columns = [\"station_id\", \"year\"] + par_unit\n",
    "\n",
    "df.head()"
   ]
  },
  {
   "cell_type": "code",
   "execution_count": null,
   "id": "b9eb122c-a14a-4b9f-b4d0-ebf4cd1c1ec5",
   "metadata": {},
   "outputs": [],
   "source": [
    "%%time\n",
    "\n",
    "par_list = [\"DEP_SOX\", \"DEP_TOTN\"]\n",
    "df_list = []\n",
    "\n",
    "# Get time series\n",
    "df2 = (\n",
    "    ds[par_list]\n",
    "    .sel(lat=stn_df[\"latitude\"], lon=stn_df[\"longitude\"], method=\"nearest\")\n",
    "    .to_dataframe()\n",
    "    .reset_index()\n",
    ")\n",
    "df2[\"station_id\"] = stn_df[\"station_id\"]\n",
    "\n",
    "# Combine results\n",
    "df2[\"year\"] = df2[\"time\"].dt.year\n",
    "df2 = df2[[\"station_id\", \"year\"] + par_list]\n",
    "par_unit = [i + \"_mgpm2\" for i in par_list]\n",
    "df2.columns = [\"station_id\", \"year\"] + par_unit\n",
    "\n",
    "df2.head()"
   ]
  },
  {
   "cell_type": "code",
   "execution_count": null,
   "id": "e3b79cec-ad7b-4ae7-bd7c-5009836b8f74",
   "metadata": {},
   "outputs": [],
   "source": [
    "sn.relplot(\n",
    "    data=df,\n",
    "    x=\"year\",\n",
    "    y=\"DEP_TOTN_mgpm2\",\n",
    "    height=4,\n",
    "    aspect=3,\n",
    "    kind=\"line\",\n",
    "    legend=False,\n",
    "    alpha=0.5,\n",
    ")"
   ]
  },
  {
   "cell_type": "code",
   "execution_count": null,
   "id": "44cf75bb-f16d-4638-89de-e82f9e43092a",
   "metadata": {},
   "outputs": [],
   "source": [
    "sn.relplot(\n",
    "    data=df,\n",
    "    x=\"year\",\n",
    "    y=\"DEP_SOX_mgpm2\",\n",
    "    height=4,\n",
    "    aspect=3,\n",
    "    kind=\"line\",\n",
    "    legend=False,\n",
    "    alpha=0.5,\n",
    ")"
   ]
  },
  {
   "cell_type": "markdown",
   "id": "66904c8d-c047-4bc0-88c9-570ffa12437c",
   "metadata": {},
   "source": [
    "### 4.2. EMEP Scenarios\n",
    "\n",
    "Prepared for the GP review and downloaded from [here](https://aerocom-classic.met.no/DATA/download/GP_review_WGE/) (see e-mail from Heleen received 05.05.2022 at 12:25 for details)."
   ]
  },
  {
   "cell_type": "code",
   "execution_count": null,
   "id": "86eee8b7-ebbb-4d95-9517-b87b3bdd7044",
   "metadata": {},
   "outputs": [],
   "source": [
    "# Pars of interest\n",
    "par_list = [\n",
    "    \"DDEP_SOX_m2Grid\",\n",
    "    \"WDEP_SOX\",\n",
    "    \"DDEP_OXN_m2Grid\",\n",
    "    \"WDEP_OXN\",\n",
    "    \"DDEP_RDN_m2Grid\",\n",
    "    \"WDEP_RDN\",\n",
    "]"
   ]
  },
  {
   "cell_type": "code",
   "execution_count": null,
   "id": "a99965d2-3ec6-42be-b351-1cfaeaad3158",
   "metadata": {},
   "outputs": [],
   "source": [
    "search_path = r\"../../../gp_review_2022/emep_data/*.nc\"\n",
    "flist = glob.glob(search_path)\n",
    "for fpath in flist:\n",
    "    met, emis, scen = os.path.split(fpath)[1].split(\"_\")[2:5]\n",
    "\n",
    "    ds = xr.open_dataset(fpath)\n",
    "    df2 = (\n",
    "        ds[par_list]\n",
    "        .sel(lat=stn_df[\"latitude\"], lon=stn_df[\"longitude\"], method=\"nearest\")\n",
    "        .to_dataframe()\n",
    "        .reset_index()\n",
    "    )\n",
    "    df2[\"station_id\"] = stn_df[\"station_id\"]"
   ]
  },
  {
   "cell_type": "code",
   "execution_count": null,
   "id": "e49b2910-dd3f-455b-86b7-b9763c40590f",
   "metadata": {},
   "outputs": [],
   "source": [
    "ds"
   ]
  },
  {
   "cell_type": "markdown",
   "id": "d0143f2d-83a1-4e5e-8030-e3a1343fc557",
   "metadata": {},
   "source": [
    "## 5. Get runoff"
   ]
  },
  {
   "cell_type": "code",
   "execution_count": null,
   "id": "1dc25f1e-7c52-4606-aeab-98e4b8415f0b",
   "metadata": {},
   "outputs": [],
   "source": [
    "par_df = nivapy.da.get_nve_gts_api_parameters()\n",
    "par_df"
   ]
  },
  {
   "cell_type": "code",
   "execution_count": null,
   "id": "c1f6b0b0-f5e6-4ed7-b3e7-69318f1e6a0c",
   "metadata": {},
   "outputs": [],
   "source": [
    "pars = [\"gwb_q\"]\n",
    "\n",
    "st_dt = \"2000-01-01\"\n",
    "end_dt = \"2019-12-31\"\n",
    "\n",
    "res_df = nivapy.da.get_nve_gts_api_time_series(\n",
    "    stn_df,\n",
    "    pars,\n",
    "    st_dt,\n",
    "    end_dt,\n",
    "    id_col=\"station_id\",\n",
    "    xcol=\"longitude\",\n",
    "    ycol=\"latitude\",\n",
    "    crs=\"epsg:4326\",\n",
    ")\n",
    "res_df.head()"
   ]
  }
 ],
 "metadata": {
  "kernelspec": {
   "display_name": "Python 3 (ipykernel)",
   "language": "python",
   "name": "python3"
  },
  "language_info": {
   "codemirror_mode": {
    "name": "ipython",
    "version": 3
   },
   "file_extension": ".py",
   "mimetype": "text/x-python",
   "name": "python",
   "nbconvert_exporter": "python",
   "pygments_lexer": "ipython3",
   "version": "3.9.10"
  }
 },
 "nbformat": 4,
 "nbformat_minor": 5
}
